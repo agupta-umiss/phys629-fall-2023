{
 "cells": [
  {
   "cell_type": "markdown",
   "metadata": {},
   "source": [
    "### Phys 629: Statistical Tools for Physics Research\n",
    "***Anuradha Gupta***\n",
    "___\n",
    "# Homework 1\n",
    "### Due: Friday, Sep 01 at 11:59 pm CT\n",
    "---"
   ]
  },
  {
   "cell_type": "markdown",
   "metadata": {},
   "source": [
    "## Problem 1\n",
    "\n",
    "Practice your git and GitHub skills by submitting this homework via GitHub.  You can skip Steps 1-4 if you have already completed the in-class work of lecture 1b.  Steps 5-11 are the new steps.  \n",
    "\n",
    "1) Navigate to https://github.com/agupta-umiss/phys629-fall-2023 on your browser. **Don't clone this!** Instead, look to the rop right of the page for an option to fork the repository. Do this now. This will make a copy of the course repository for your own personal use.\n",
    "\n",
    "2) Now that you have a fork of the repository, clone it to your machine.\n",
    "\n",
    "    $ git clone https://github.com/YOUR_USERNAME/phys629-fall-2023\n",
    "\n",
    "3) Add the original `agupta-umiss` repository as an `upstream` repository to your fork. First, list the current configured remote repository for your fork with:\n",
    "\n",
    "    $ git remote -v\n",
    "    \n",
    "Now, add the `agupta-umiss` repo as an upstream:\n",
    "\n",
    "    $ git remote add upstream https://github.com/agupta-umiss/phys629-fall-2023\n",
    "    \n",
    "Verify that the new repository shows as an `upstream` by running `git remote -v` again.\n",
    "\n",
    "4) Get used to syncing upstream content to your fork with:\n",
    "\n",
    "    $ git fetch upstream\n",
    "    \n",
    "    $ git checkout main\n",
    "    \n",
    "    $ git merge upstream/main\n",
    "\n",
    "5) Now, navigate to `student_folders` folder. Make a folder in here labeled by your name in all lowercase (i.e., `firstname_lastname`).\n",
    "\n",
    "6) Copy your completed lecture notebooks (with all exercises in red finished) to your folder, adding your name to the file (e.g., `lecture_1_FirstnameLastname.ipynb`). This is what you will do for each week's lecture notebooks to get participation credit. Your lecture notebooks should have already been copies of my base lecture notebooks. **Never** run my base notebooks; always make a personal copy for yourself.\n",
    "\n",
    "7) Copy the **Homework 1** notebook (this file) to your folder, adding your name (e.g., `phys629_f23_hw1_FirstnameLastname.ipynb`) \n",
    "\n",
    "8) Complete the other problems listed below.\n",
    "\n",
    "9) Submit your homework as follows (making sure that your added files are contained within your student folder):\n",
    "\n",
    "    $ git add phys629_f23_hw1_FirstnameLastname.ipynb\n",
    "    \n",
    "    $ git commit -m \"Uploaded Homework 1\"\n",
    "    \n",
    "    $ git push\n",
    "   \n",
    "10) Similarly add, commit, and push your completed lecture notebooks. \n",
    "\n",
    "11) On your browser, navigate on GitHub to your fork of the course repository. You should see an option to initiate a `pull request` to merge your changes into the `main` repository. Your homework and lecture notebooks for the week are submitted when you initiate this pull request."
   ]
  },
  {
   "cell_type": "markdown",
   "metadata": {},
   "source": [
    "## Problem 2\n",
    "\n",
    "Let's take the exmaple of a coin flip. The coin is fair, so the probability of a head and a tail is same, i.e., $p(H)=0.5$ and $p(T)=0.5$. You flipped the coin twice.\n",
    "\n",
    "1) What is the probability of one head and one tail given that the first flip was head.\n",
    " ##### Answer: The possibility space is {HH, HT, TH, TT}. The possibility of the first toss is head is $p(H_{1}) = \\frac{2}{4} = \\frac{1}{2}$. The possibility of the second toss being a tail given the first one is a head is $p(T_{2}|H_{1}) = \\frac{1}{2}.$ So the probability of one head and one tail given first toss is a head is $p(H_{1},T_{2}) = p(H_{1})*p(T_{2}|H_{1}) = \\frac{1}{2}*\\frac{1}{2} = \\frac{1}{4}.$\n",
    "\n",
    "2) What is the probability of two tails given that at least one flip was tail.\n",
    "  ##### Answer: The possible outcomes are {HH,HT,TH,TT}. The probaility of atleast one tail is $p(T) = 3/4.$ The probability of two tails is $p(TT) = \\frac{1}{4}.$ So the probability of two tails given at least one tail is $p(TT|T) = p(TT)/p(T) = \\frac{1}{3}$.\n",
    "\n",
    "3) What is the probability of two tails given that the first flip was tail.\n",
    "##### Answer: The possible outcomes are {HH,HT,TH,TT}. The probability that the first toss is a tail is $p(T_{1}) = \\frac{1}{2}.$ The probability of two tails is $p(TT) = \\frac{1}{4}.$ So the probability of two tails given the first toss is a tail is $p(TT|T_{1}) = p(TT)/p(T_{1}) = \\frac{1}{4}*\\frac{2}{1} = \\frac{1}{2}$.\n",
    "Remember that \"given\" means your calculation is conditioned on some already fixed data or outcome. \n",
    "\n",
    "Either write your solution as Markdown/Latex below, or paste in a scanned image of your handwritten solution."
   ]
  },
  {
   "cell_type": "markdown",
   "metadata": {},
   "source": [
    "## Problem 3\n",
    "\n",
    "You purchase a certain product. The manual states that the lifetime T of the product, defined as the amount of time (in years) the product works properly until it breaks down, satisfies $p(T \\geq t)=e^{−t/5}$ for all $t\\geq0$. For example, the probability that the product lasts more than (or equal to) 2 years is $p(T\\geq2)=e^{−2/5}=0.6703$. This is an example of a continuous probability model. \n",
    "1) Find the probability that the product breaks down within three years of the purchase time.\n",
    "##### Answer: The probability that the product lasts more than or equal to 3 years is $p(T \\geq 3) = e^{-3/5} = 0.5488$. So the proabability it lasts less than 3 years is $p(T < 3) = 1 - p(T \\geq 3) = 0.4511.$\n",
    "2) Find the probability that the product breaks down in the second year.\n",
    "##### Answer: The probability it lasts more than or equal to two years is $p(T >2) = 0.6703.$ The probability is lasts more than or equal one year is $p(T \\geq 1) = 0.8187$. So the probability it breaks down in the second year is $p(1 \\leq T \\leq 2) = p(T \\geq 2) - p(T \\geq 1) = 0.2114$"
   ]
  },
  {
   "cell_type": "code",
   "execution_count": null,
   "metadata": {},
   "outputs": [],
   "source": []
  }
 ],
 "metadata": {
  "anaconda-cloud": {},
  "kernelspec": {
   "display_name": "Python 3 (ipykernel)",
   "language": "python",
   "name": "python3"
  },
  "language_info": {
   "codemirror_mode": {
    "name": "ipython",
    "version": 3
   },
   "file_extension": ".py",
   "mimetype": "text/x-python",
   "name": "python",
   "nbconvert_exporter": "python",
   "pygments_lexer": "ipython3",
   "version": "3.8.17"
  }
 },
 "nbformat": 4,
 "nbformat_minor": 4
}
