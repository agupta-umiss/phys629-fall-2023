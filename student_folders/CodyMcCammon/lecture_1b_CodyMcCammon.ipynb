{
 "cells": [
  {
   "cell_type": "markdown",
   "metadata": {
    "slideshow": {
     "slide_type": "slide"
    }
   },
   "source": [
    "### Phys 629, Fall 2023, University of Mississippi\n",
    "\n",
    "\n",
    "# Lecture 1b: Getting Started\n",
    "\n",
    "This notebook contains the majority of what we need to get set up and started. It is based on a similar notebook put together by G. Richards of Drexel University (https://github.com/gtrichards/PHYS_440_540), which itself draws heavily from classes taught by Zeljko Ivezic and Mario Juric, Andy Connolly (http://connolly.github.io/introAstroML/), Karen Leighly ([seminar.ouml.org](http://seminar.ouml.org)) and Stephen R. Taylor (https://github.com/VanderbiltAstronomy/astr_8070_s22).\n",
    "\n",
    "***Exercises required for class participation are in <font color='red'>red</font>.***"
   ]
  },
  {
   "cell_type": "markdown",
   "metadata": {
    "slideshow": {
     "slide_type": "slide"
    }
   },
   "source": [
    "## 1. Python stack <a class=\"anchor\" id=\"first-bullet\"></a>\n",
    "\n",
    "Everyone will need to have the proper software environment in order to be able to participate in the course.  These instructions have been tested on my Macbook Pro, but should work for other platforms as well.\n",
    "\n",
    "Go through the following steps."
   ]
  },
  {
   "cell_type": "markdown",
   "metadata": {
    "slideshow": {
     "slide_type": "slide"
    }
   },
   "source": [
    "### Miniconda\n",
    "\n",
    "1. Install Miniconda (skip step 1 if you already have an Anaconda Python3 installation)\n",
    "\n",
    "\t* Either...download and install the relevant Miniconda file from here: https://docs.conda.io/en/latest/miniconda.html\n",
    "\t* OR... use Terminal command line installation\n",
    "\t\t* Download the right one for your architecture\n",
    "\t\t\t* Mac: `wget -q https://repo.anaconda.com/miniconda/Miniconda3-latest-MacOSX-x86_64.sh`\n",
    "\t\t\t* Linux: `wget -q https://repo.continuum.io/miniconda/Miniconda3-latest-Linux-x86_64.sh`\n",
    "\t\t\t* Windows (untested): `wget -q https://repo.anaconda.com/miniconda/Miniconda3-latest-Windows-x86_64.exe`\n",
    "\n",
    "\t\t* `bash Miniconda3-latest-Linux-x86_64.sh -b`\n",
    "\t\t* `rm Miniconda3-latest-Linux-x86_64.sh` (careful with “rm”)"
   ]
  },
  {
   "cell_type": "markdown",
   "metadata": {
    "slideshow": {
     "slide_type": "subslide"
    }
   },
   "source": [
    "### Miniconda\n",
    "\n",
    "2. Open a **new** terminal window, and make sure your `$PATH` variable points to the Anaconda installation. You can do this by typing\n",
    "\n",
    "    `$ which python`\n",
    "    \n",
    "    The result should show the path to the newly-installed anaconda folder, e.g. `/Users/agupta/miniconda3/bin/python`"
   ]
  },
  {
   "cell_type": "markdown",
   "metadata": {
    "slideshow": {
     "slide_type": "subslide"
    }
   },
   "source": [
    "### Miniconda\n",
    "\n",
    "3. If you have problems with step 2, then you may not have added anaconda to your python path during installation. How to do this depends on whether you use BASH or TCSH (if you don't know what that means, you are probably using BASH).\n",
    "\n",
    "    I use BASH, so have the following line added to my `.bash_profile` file\n",
    "    \n",
    "    `\n",
    "    export PATH=\"$HOME/opt/miniconda3/bin:$PATH\"\n",
    "    `\n",
    "\n",
    "    If you use TCSH instead, you will need the following in your `.tcshrc` file:                                                                                                                                \n",
    "    `\n",
    "    set path=(/Users/gtr/opt/anaconda3/bin $path)\n",
    "    `\n",
    "\n",
    "    Now repeat step 2."
   ]
  },
  {
   "cell_type": "markdown",
   "metadata": {
    "slideshow": {
     "slide_type": "slide"
    }
   },
   "source": [
    "### Python environment for class\n",
    "\n",
    "1. Create a new python environment for this class: `conda create -n phys629 python=3.8 numpy scipy matplotlib scikit-learn nb_conda`. Press `y` to proceed when asked.\n",
    "\n",
    "\n",
    "2. This will create a conda environment that can be activated by `conda activate phys629`\n",
    "\n",
    "\n",
    "3. Open a `jupyter notebook`\n",
    "\n",
    "\n",
    "4. Set the Kernel\n",
    "\n",
    "   * when opening a new notebook: click `New` and select `Python [conda env:phys629]`  \n",
    "   * when opening an existing notebook (like this tutorial): click `Kernel` --> `Change Kernel` --> `Python [conda env:phys629]`\n",
    "   \n",
    "   \n",
    "5. When necessary, you can deactivate this python environment with `conda deactivate`"
   ]
  },
  {
   "cell_type": "markdown",
   "metadata": {
    "slideshow": {
     "slide_type": "slide"
    }
   },
   "source": [
    "My package versions are as follows. If you run into problems that I am not having, resolving package version differences would be a good place to start debugging.\n",
    "\n",
    "```\n",
    "python version  3.8.17  core programming language\n",
    "numpy version  1.24.3  efficient array operations\n",
    "scipy version  1.10.1  scientific computing tools\n",
    "matplotlib version  3.7.1  plotting and visualization\n",
    "sklearn version  1.3.0  machine learning\n",
    "```"
   ]
  },
  {
   "cell_type": "markdown",
   "metadata": {
    "slideshow": {
     "slide_type": "slide"
    }
   },
   "source": [
    "You can check your package versions with:"
   ]
  },
  {
   "cell_type": "code",
   "execution_count": null,
   "metadata": {
    "slideshow": {
     "slide_type": "subslide"
    }
   },
   "outputs": [],
   "source": [
    "from platform import python_version\n",
    "import numpy\n",
    "import scipy\n",
    "import matplotlib\n",
    "import sklearn\n",
    "\n",
    "print(\"python version \",python_version(), \" core programming language\")\n",
    "print(\"numpy version \",numpy.__version__, \" efficient array operations\")\n",
    "print(\"scipy version \",scipy.__version__, \" scientific computing tools\")\n",
    "print(\"matplotlib version \",matplotlib.__version__, \" plotting and visualization\")\n",
    "print(\"sklearn version \",sklearn.__version__, \" machine learning\")"
   ]
  },
  {
   "cell_type": "markdown",
   "metadata": {
    "slideshow": {
     "slide_type": "slide"
    }
   },
   "source": [
    "### Installing astroML and other packages"
   ]
  },
  {
   "cell_type": "markdown",
   "metadata": {
    "slideshow": {
     "slide_type": "subslide"
    }
   },
   "source": [
    "[astroML](http://www.astroml.org/) is the software library that goes together with [the textbook](https://press.princeton.edu/books/hardcover/9780691198309/statistics-data-mining-and-machine-learning-in-astronomy).  Much of it is a series of wrappers to [scikit-learn](http://scikit-learn.org/) (which we've already installed), where Jake VanderPlas is one of the main contributors to each.  Jake has written an [Intro to AstroML](https://ieeexplore.ieee.org/document/6382200) paper (or https://arxiv.org/abs/1411.5039) that is worth going through to give you an idea of the sorts of things that we'll be doing in the class.\n",
    "\n",
    "Make sure you do the following inside the class' python envrionment.\n",
    "\n",
    "We'll install the bleeding edge version of `astroML` from github, using **pip** (the python package installer):"
   ]
  },
  {
   "cell_type": "markdown",
   "metadata": {},
   "source": [
    "<font color='red'>install these packages below and print the version of them</font>\n",
    "\n",
    "In [1]: from platform import python_version\n",
    "   ...: import numpy\n",
    "   ...: import scipy\n",
    "   ...: import matplotlib\n",
    "   ...: import sklearn\n",
    "   ...: \n",
    "   ...: print(\"python version \",python_version(), \" core programming language\")\n",
    "   ...: print(\"numpy version \",numpy.__version__, \" efficient array operations\")\n",
    "   ...: \n",
    "   ...: print(\"scipy version \",scipy.__version__, \" scientific computing tools\")\n",
    "   ...: \n",
    "   ...: print(\"matplotlib version \",matplotlib.__version__, \" plotting and visua\n",
    "   ...: lization\")\n",
    "   ...: print(\"sklearn version \",sklearn.__version__, \" machine learning\")\n",
    "python version  3.8.17  core programming language\n",
    "numpy version  1.24.3  efficient array operations\n",
    "scipy version  1.10.1  scientific computing tools\n",
    "matplotlib version  3.7.1  plotting and visualization\n",
    "sklearn version  1.3.0  machine learning\n",
    "\n",
    "In [2]: from platform import python_version\n",
    "   ...: import numpy\n",
    "   ...: import scipy\n",
    "   ...: import matplotlib\n",
    "   ...: import sklearn\n",
    "   ...: import astroML\n",
    "   ...: \n",
    "   ...: print(\"python version \",python_version(), \" core programming language\")\n",
    "   ...: print(\"numpy version \",numpy.__version__, \" efficient array operations\")\n",
    "   ...: \n",
    "   ...: print(\"scipy version \",scipy.__version__, \" scientific computing tools\")\n",
    "   ...: \n",
    "   ...: print(\"matplotlib version \",matplotlib.__version__, \" plotting and visua\n",
    "   ...: lization\")\n",
    "   ...: print(\"sklearn version \",sklearn.__version__, \" machine learning\")\n",
    "   ...: print(\"astroML version \",astroML.__version__, \" astronomical machine lea\n",
    "   ...: rning toolkit\")\n",
    "python version  3.8.17  core programming language\n",
    "numpy version  1.24.3  efficient array operations\n",
    "scipy version  1.10.1  scientific computing tools\n",
    "matplotlib version  3.7.1  plotting and visualization\n",
    "sklearn version  1.3.0  machine learning\n",
    "astroML version  1.0.2  astronomical machine learning toolkit\n"
   ]
  },
  {
   "cell_type": "markdown",
   "metadata": {
    "slideshow": {
     "slide_type": "subslide"
    }
   },
   "source": [
    "```\n",
    "$ pip install astroML\n",
    "```\n",
    "\n",
    "and same for the add-on packages:\n",
    "\n",
    "```\n",
    "$ pip install astroML_addons\n",
    "```\n",
    "\n",
    "\n",
    "We'll need a few other packages installed as we go along. You'll know you need to install a new package when your code throws an error!\n",
    "\n",
    "```\n",
    "$ conda install -c astropy astroquery\n",
    "```\n",
    "```    \n",
    "$ pip install corner\n",
    "```\n",
    "    \n",
    "With all of those things installed, let's check the version of everything again."
   ]
  },
  {
   "cell_type": "code",
   "execution_count": null,
   "metadata": {
    "slideshow": {
     "slide_type": "subslide"
    }
   },
   "outputs": [],
   "source": [
    "from platform import python_version\n",
    "import numpy\n",
    "import scipy\n",
    "import matplotlib\n",
    "import sklearn\n",
    "import astroML\n",
    "\n",
    "print(\"python version \",python_version(), \" core programming language\")\n",
    "print(\"numpy version \",numpy.__version__, \" efficient array operations\")\n",
    "print(\"scipy version \",scipy.__version__, \" scientific computing tools\")\n",
    "print(\"matplotlib version \",matplotlib.__version__, \" plotting and visualization\")\n",
    "print(\"sklearn version \",sklearn.__version__, \" machine learning\")\n",
    "print(\"astroML version \",astroML.__version__, \" astronomical machine learning toolkit\")"
   ]
  },
  {
   "cell_type": "markdown",
   "metadata": {
    "slideshow": {
     "slide_type": "slide"
    }
   },
   "source": [
    "## 2. Git and Github <a class=\"anchor\" id=\"second-bullet\"></a>\n",
    "\n",
    "Hopefully most of you are familiar with the software version control tool `git`, and the [GitHub](http://github.com) service where you will download the notebooks that I will put into the class repository before each class.\n",
    "\n",
    "If you don't have one already, make an account on [GitHub](https://github.com/), where you can create your own repositories. Let's pause and make sure we all have a github account first!"
   ]
  },
  {
   "cell_type": "markdown",
   "metadata": {
    "slideshow": {
     "slide_type": "subslide"
    }
   },
   "source": [
    "### Git\n",
    "To get Git for any platform, see: [https://git-scm.com/download/](https://git-scm.com/download/).\n",
    "\n",
    "If you're using a Mac, you'll have `git` installed already. Open a terminal window and run\n",
    "\n",
    "    $ which git\n",
    "\n",
    "For example:\n",
    "\n",
    "```\n",
    "$ which git\n",
    "/usr/bin/git\n",
    "\n",
    "$ git --version\n",
    "git version 2.21.1 (Apple Git-122.3)\n",
    "```\n",
    "\n",
    "Check that `git` is configured correctly so that your username and email address match that of your account on GitHub.\n",
    "\n",
    "```\n",
    "$ git config --global --edit\n",
    "```\n",
    "\n",
    "Let's pause and make sure we all have git installed and configured."
   ]
  },
  {
   "cell_type": "markdown",
   "metadata": {
    "slideshow": {
     "slide_type": "slide"
    }
   },
   "source": [
    "### <font color='red'>The class GitHub repository</font>\n",
    "\n",
    "Once Git is installed, make a place where you are going to put the class repository.  Perhaps in a `git`, `repos`, or `classwork` folder.  \n",
    "```\n",
    "$ cd ~\n",
    "$ mkdir repos\n",
    "$ cd repos\n",
    "```\n",
    "\n",
    "Now go to the class git repository at https://github.com/agupta-umiss/phys629-fall-2023. **Don't clone this!** Instead, look to the rop right of the page for an option to fork the repository. Do this now. This will make a copy of the class repository for your own personal use.\n",
    "\n",
    "Now that you have a fork of the repository, clone it to your machine.\n",
    "\n",
    "```\n",
    "$ git clone https://github.com/YOUR_USERNAME/phys629-fall-2023\n",
    "```"
   ]
  },
  {
   "cell_type": "markdown",
   "metadata": {
    "slideshow": {
     "slide_type": "subslide"
    }
   },
   "source": [
    "Before proceeding further, we're now going to add the `agupta-umiss` repository as an [`upstream` repository to your fork](https://docs.github.com/en/free-pro-team@latest/github/collaborating-with-issues-and-pull-requests/configuring-a-remote-for-a-fork). First, list the current configured remote repository for your fork with:\n",
    "\n",
    "```\n",
    "$ git remote -v\n",
    "```\n",
    "\n",
    "Now, add the `agupta-umiss` repo as an `upstream`:\n",
    "\n",
    "```\n",
    "$ git remote add upstream https://github.com/agupta-umiss/phys629-fall-2023\n",
    "```\n",
    "\n",
    "Verify that the new repository shows as an upstream by running `git remote -v` again."
   ]
  },
  {
   "cell_type": "markdown",
   "metadata": {
    "slideshow": {
     "slide_type": "subslide"
    }
   },
   "source": [
    "You now have the ability to work with your own fork, sync upstream changes to this fork, and commit changes to your fork that you can then incorporate into the upstream through a **pull release** (PR). \n",
    "\n",
    "In order to [sync new lectures or homeworks from upstream to your fork](https://docs.github.com/en/free-pro-team@latest/github/collaborating-with-issues-and-pull-requests/syncing-a-fork), run the following in the local directory of your cloned fork:\n",
    "\n",
    "```\n",
    "$ git fetch upstream\n",
    "$ git checkout main\n",
    "$ git merge upstream/main\n",
    "$ git push\n",
    "```\n",
    "\n",
    "You should do this often in order to see new materials that I add. You will need to do this to see Homework 1, which will go through setting up your own named directory in your fork, committing and pushing, then submitting a PR. \n",
    "\n",
    "**This is how you will submit homeworks for the entire class-- through GitHub PRs from your fork to the upstream class repo.**"
   ]
  },
  {
   "cell_type": "markdown",
   "metadata": {
    "slideshow": {
     "slide_type": "slide"
    }
   },
   "source": [
    "## 3. Basics <a class=\"anchor\" id=\"third-bullet\"></a>\n",
    "\n",
    "### Getting Started with Python\n",
    "\n",
    "If you don't know *any* Python experience at all, this class may be pretty tough going.  However, many of you might need a refresher.  A good place to start is **Appendix A** (more specifically A3) in the textbook.  \n",
    "\n",
    "From Jake VanderPlas (a contributor to astroML and a co-author of our textbook):\n",
    "\n",
    "- [A Whirlwind Tour of Python](https://www.oreilly.com/programming/free/files/a-whirlwind-tour-of-python.pdf)\n",
    "- [Python Data Science Handbook](https://jakevdp.github.io/PythonDataScienceHandbook/index.html)"
   ]
  },
  {
   "cell_type": "markdown",
   "metadata": {
    "slideshow": {
     "slide_type": "slide"
    }
   },
   "source": [
    "### Interfacing with Python\n",
    "\n",
    "You can interface with Python by 1) starting it on the command line (**remember to activate the class python environment first!**): \n",
    "\n",
    "    $ python filename.py\n",
    "    \n",
    "or 2) using a web-based interactive interface [Jupyter](http://jupyter.org/).\n",
    "\n",
    "We'll be using the latter.  In fact, each lecture will be in the form of a [jupyter notebook](http://jupyter.org/) that you'll sync to your fork from the upstream github repository before the start of each class.  \n",
    "\n",
    "To start the notebook app, run:\n",
    "\n",
    "    $ jupyter notebook &\n",
    "    \n",
    "This will pop up a web page in your default browser and show the Dashboard where you can navigate to a particular notebook or open a new one.  You can also open a notebook directly with \n",
    "\n",
    "    $ jupyter notebook lecture_X.ipynb &"
   ]
  },
  {
   "cell_type": "markdown",
   "metadata": {
    "slideshow": {
     "slide_type": "subslide"
    }
   },
   "source": [
    "If you are creating a new notebook, click on `New` at the top-right of the page and select `Python [conda env:phys629]`. When opening an existing notebook, click `Kernel` --> `Change Kernel` --> `Python [conda env:phys629]`\n",
    "   \n",
    "--- \n",
    "\n",
    "For class, I recommend that you first make a personal copy of each notebook, appending your name to the file.  This way you aren't editing the original and you'll have a version that you can turn in (as part of class participation). For example,\n",
    "\n",
    "    $ cp lecture_X.ipynb lecture_X_FirstnameLastname.ipynb\n",
    "    \n",
    "And then open that notebook with the command \n",
    "\n",
    "    $ jupyter notebook lecture_X_FirstnameLastname.ipynb &"
   ]
  },
  {
   "cell_type": "markdown",
   "metadata": {
    "collapsed": true,
    "slideshow": {
     "slide_type": "slide"
    }
   },
   "source": [
    "### Working with jupyter notebooks\n",
    "\n",
    "Notebooks have 2 primary cell types: 'Markdown' and 'Code'.    The Markdown cells are basically just for you to read.  The Code cells are meant to be executed (perhaps after you have filled in some blanks).  \n",
    "\n",
    "To execute a cell in the notebook, type '**shift-return**'. If you see a `*` in the bracket left of the cell or a `Busy` in the tab title, it means the command is in the process of running, and you need to wait for it to finish.\n",
    "\n",
    "The notebook is autosaved, so that when you return to a notebook, everything is the same as you left it. If you want to reset it, you can do “revert to checkpoint”.  If you save it yourself, you will create a checkpoint, and the original version will be unavailable."
   ]
  },
  {
   "cell_type": "markdown",
   "metadata": {
    "slideshow": {
     "slide_type": "subslide"
    }
   },
   "source": [
    "Here are some useful commands to get you started (# followed by text indicates a comment and not what you type)!\n",
    "\n",
    "    In [ ]: ?          # basic help function.  Pops open a sub-frame at the bottom of page.  \n",
    "                         Close with \"x\".\n",
    "    \n",
    "    In [ ]: %quickref  # Pops open a quick reference card\n",
    "    \n",
    "    In [ ]: ! \t       # spawning out to the operating system; \n",
    "                         e.g files=!ls will fill the variable files \n",
    "                         with a list of files in your directory."
   ]
  },
  {
   "cell_type": "markdown",
   "metadata": {
    "slideshow": {
     "slide_type": "subslide"
    }
   },
   "source": [
    "Jupyter also contains a number of [“magic” commands](https://ipython.org/ipython-doc/dev/interactive/magics.html).\n",
    "Two examples are\n",
    "\n",
    "    In [ ]: %matplotlib inline  # makes plots within the web browser instead of popping up a new window\n",
    "    \n",
    "    In [ ]: %whos               # lists the vectors, etc. that you have defined.\n",
    "    \n",
    "    In [ ]: %timeit func.       # times a function `func` that you have defined\n",
    "\n",
    "Jupyter also has lots of [keyboard shortcuts](https://ipython.org/ipython-doc/1/interactive/notebook.html#keyboard-shortcuts) – the main one is shift-enter to run a cell."
   ]
  },
  {
   "cell_type": "markdown",
   "metadata": {
    "slideshow": {
     "slide_type": "slide"
    }
   },
   "source": [
    "## 4. (Brief) Review of Python Basics <a class=\"anchor\" id=\"fourth-bullet\"></a>\n",
    "\n",
    "**Skip this section if you feel you have sufficient python expertise**\n",
    "\n",
    "To start with Python uses the following [numerical data types and operations](https://docs.python.org/2/library/stdtypes.html#boolean-operations-and-or-not)\n",
    "\n",
    "We will encounter three main types of collections of data:\n",
    "\n",
    "    Lists: a mutable array of data\n",
    "    Tuples: ordered, immutable list\n",
    "    Dictionaries: keyword/value lookup\n",
    "\n",
    "Tuple\n",
    "\n",
    "    its most notable property is that it is immutable – after being defined, it cannot be changed\n",
    "    denoted by parentheses, e.g., x=(5.0,7.0,9.0,11.0)\n",
    "    to index, use square brackets, e.g., print(x[0])\n",
    "    can get part of one using :, e.g., try print(x[2:]) etc.\n",
    "\n",
    "List\n",
    "\n",
    "    in contrast to a tuple, it can be reassigned\n",
    "    denoted with brackets, e.g., y=[5.0,7.0,9.0,11.0]\n",
    "    to index, also use square brackets, e.g., print(x[0])\n",
    "    can get part of one using :, e.g., try print(y[2:]) etc.\n",
    "\n",
    "Dictionary\n",
    "\n",
    "    assigns a value to a key, for example z={'a':2,'b':4,'c':6}, where a,b,c are the keywords.\n",
    "    the dictionary is indexed by the keyword, e.g., print(z['a'])\n",
    "    they can be quite complicated.\n",
    "    \n",
    "Here is a lot more on data structures: [https://docs.python.org/2/tutorial/datastructures.html](https://docs.python.org/2/tutorial/datastructures.html).\n",
    "\n",
    "---\n",
    "### Methods and Attributes\n",
    "\n",
    "Each type of data structure has associated “methods”. A method is like a little built-in function that can be run on a data structure.\n",
    "\n",
    "For example, open a new cell (or in a python terminal window) and do the following:\n",
    "\n",
    "```python\n",
    "v=[27.0,35.0,101.0,57.0]\n",
    "print(v)\n",
    "v.sort()\n",
    "print(v)\n",
    "```\n",
    "\n",
    "So v has now been replaced with the sorted v.\n",
    "\n",
    "The parentheses indicate that this is a \"method\", which is something that can (but doesn't have to) take *arguments*.  An \"attribute\" on the other hand is just a property.  E.g., if you have an object called `shape` and shape contains information like `area`, `length`, `width`, etc., then you access those values as\n",
    "\n",
    "```python\n",
    "print(shape.area)\n",
    "```\n",
    "\n",
    "Basic mathematical operations that can be applied to your data are found here: [https://docs.python.org/2/library/math.html](https://docs.python.org/2/library/math.html).\n",
    "\n",
    "OK, hopefully that is a refresher for everyone, so let's get going with more complicated stuff.\n",
    "If you need more of a refresher than that, see the links above.\n",
    "\n",
    "---\n",
    "### NumPy\n",
    "\n",
    "NumPy is short for Numerical Python. It is the foundational package for scientific computing in Python. It is a library which will allow us to work with data structures called **arrays** that are more efficient for storing amd manipulating data than other Python data structures (or C++ for that matter). \n",
    "\n",
    "For example, cut and paste this into a new cell, then type shift-enter to run it:\n",
    "\n",
    "```python\n",
    "import numpy as np\n",
    "xlist = [1,2,3]\n",
    "xarray = np.array(xlist)\n",
    "twice_xarray = 2*xarray\n",
    "print(twice_xarray)\n",
    "```\n",
    "\n",
    "This is far better than creating a for loop over the entries in `xlist` or even something fancier like a \"list comprehension\"\n",
    "```python\n",
    "   twice_xlist = [2*x for x in xlist]\n",
    "   print(twice_xlist)\n",
    "```\n",
    "Note the lack of commas in the array as compared to the list.\n",
    "\n",
    "To load the Numpy library type:  \n",
    "\n",
    "    In [ ]: import numpy as np\n",
    "    \n",
    "In fact, just plan on starting **every** notebook with this!    \n",
    "\n",
    "The basic unit for numpy is an [ndarray](https://docs.scipy.org/doc/numpy/reference/arrays.ndarray.html).  See the link for examples of how to define, index, slice, etc. the array.\n",
    "\n",
    "There are quite a few **methods** associated with numpy arrays.  Some useful ones include:\n",
    "\n",
    "|Method |\tProperty|\n",
    "|-------|-----------|\n",
    "|np.zeros(5,float) |\tyields a 5-element array of zeros of type float |\n",
    "|a=np.empty(4) |\tyields a 4-element empty array |\n",
    "|a.fill(5.5) |\tfills that array with 5.5 for all elements |\n",
    "|np.arange(5) |\tyields an integer array of length 5 with increasing values | \n",
    "|b=np.random.normal(10,3,5) |\tyields a 5 element array of normally distributed numbers with mean 10 and variance 3 |\n",
    "|mask=b > 9 |\tcreates a boolean array determing which numbers are greater than 9 |\n",
    "|print(b[mask]) |\tprints the ones with values > 9 |\n",
    "|b[mask]=0 | sets the ones > 9 to zero |\n",
    "\n",
    "Arrays can be multidimensional, e.g., ```c=np.random.normal(10,3,(2,4))```, creates a 2 x 4 array with normally distributed numbers with mean 10 and variance 3.\n",
    "\n",
    "More methods for multidimensional arrays:\n",
    "\n",
    "|Method |\tProperty|\n",
    "|-------|-----------|\n",
    "|d=c[0,:] |\tgrabs the first (0th) row of c. |\n",
    "|d=c[1,:] |\tgrabs the second (1st) row of c. |\n",
    "|d=c[:,0] |\tgrabs the first column of c. |\n",
    "|c.dtype |\tdata type |\n",
    "|c.size |\ttotal number of elements |\n",
    "|c.ndim |\tnumber of dimensions |\n",
    "|c.shape |\tshape or dimensionality |\n",
    "|c.nbytes |\tmemory used (bytes) |\n",
    "|c.min() |\tgives the minimum of c |\n",
    "|c.max() |\tgives the maximum of c |\n",
    "|c.sum() |\tsum of all elements |\n",
    "|c.mean() |\tmean of all elements |\n",
    "|c.std() |\tstandard deviation of all elements |\n",
    "|c.sum(axis=0) | will present sum along the 0th axis (column direction). The result will have reduced dimensionality |\n",
    "\n",
    "You can also operate with arrays, for example, adding them together, multiplying them, multiplying or adding a constant. There are, however, \"broadcasting\" rules so that you need to make sure you know what you are doing when dealing with arrays of different sizes.\n",
    "\n",
    "---\n",
    "### SciPy\n",
    "\n",
    "\n",
    "[SciPy](http://docs.scipy.org/doc/scipy/reference/) is an \"open-source software for mathematics, science, and engineering\".  We `import` it the same way that we import numpy:\n",
    "\n",
    "\n",
    "    In [ ]: import scipy as sp\n",
    "\n",
    "\n",
    "SciPy is a suite of tools for data analysis including integration, statistical functions, interpolation.  It is built on top of Numpy. Where Numpy is intended for array *manipulation*, Scipy is intended for *analysis*. This is where the useful tools that are built into. It may be worth looking at the users guide to get an idea of the kinds of functions are available.   N.B.  For some packages you need to import more than just the main scipy package.  So, for example to see what is available in the scipy.integrate package, do the following:\n",
    "\n",
    "```\n",
    "import scipy.integrate\n",
    "scipy.integrate?\n",
    "```\n",
    "\n",
    "---\n",
    "### Pandas\n",
    "\n",
    "[Pandas](https://pandas.pydata.org/) is fast, powerful, flexible and easy to use open source data analysis and manipulation tool, built on top of the Python programming language.. \n",
    "\n",
    "We `import` it the same way that we import numpy:\n",
    "\n",
    "\n",
    "    In [ ]: import pandas as pd\n",
    "\n",
    "Pandas is a library designed with manipulating numerical tables and time series in mind and is a very useful tool for data science.   We will be making use of Pandas [DataFrames](https://pandas.pydata.org/pandas-docs/stable/reference/api/pandas.DataFrame.html) in the course of this class. You can get some experience using Pandas either with [DataCamp](https://www.datacamp.com/community/tutorials/pandas-tutorial-dataframe-python) or with [Chapter 3 of the Python Data Science Handbook by Jake VanderPlas](https://jakevdp.github.io/PythonDataScienceHandbook/03.00-introduction-to-pandas.html).\n",
    "\n",
    "```\n",
    "import pandas as pd\n",
    "pd?\n",
    "```\n",
    "\n",
    "---\n",
    "### Scikit-learn\n",
    "\n",
    "We'll learn about this in a future class. "
   ]
  },
  {
   "cell_type": "markdown",
   "metadata": {
    "slideshow": {
     "slide_type": "slide"
    }
   },
   "source": [
    "## 5. Matplotlib Example\n",
    "\n",
    "It is generally useful to be able to visualize your data.  We will do that using the \n",
    "[matplotlib](http://matplotlib.org/) library.   Most of you should be familiar with it already, but we will likely be making some plots that are more complex than you are used to.  One nice resource is this [thumbnail gallery](http://matplotlib.org/gallery.html) which you can use to figure out how to make a new plot.\n",
    "\n",
    "Let's make sure that everything is working by making a simple plot"
   ]
  },
  {
   "cell_type": "code",
   "execution_count": 1,
   "metadata": {
    "slideshow": {
     "slide_type": "slide"
    }
   },
   "outputs": [
    {
     "data": {
      "image/png": "[encoded data removed]",
      "text/plain": [
       "<Figure size 432x288 with 1 Axes>"
      ]
     },
     "metadata": {
      "image/png": {
       "height": 273,
       "width": 396
      },
      "needs_background": "light"
     },
     "output_type": "display_data"
    }
   ],
   "source": [
    "# magic command to make the figure pop up below instead of in a new window\n",
    "%matplotlib inline\n",
    "%config InlineBackend.figure_format='retina' # very useful command for high-res images\n",
    "\n",
    "# invoke pyplot in matplotlib, give it an alias\n",
    "import matplotlib.pyplot as plt  \n",
    "import numpy as np\n",
    "\n",
    "x = np.linspace(0, 3*np.pi, 300)\n",
    "\n",
    "y = np.sin(x)\n",
    "y2 = np.sin(x**2)\n",
    "\n",
    "plt.plot(x, y, label=r'$\\sin(x)$')\n",
    "plt.plot(x, y2, label=r'$\\sin(x^2)$')\n",
    "plt.title('Some functions')\n",
    "plt.xlabel('x')\n",
    "plt.ylabel('y')\n",
    "\n",
    "plt.grid(which='major')\n",
    "plt.legend(loc='lower left');\n",
    "\n",
    "## optional extras\n",
    "plt.minorticks_on()\n",
    "plt.tick_params(which='both', direction='in', tick2On=True)"
   ]
  },
  {
   "cell_type": "markdown",
   "metadata": {
    "slideshow": {
     "slide_type": "slide"
    }
   },
   "source": [
    "You can change both the [marker/line styles](http://matplotlib.org/examples/lines_bars_and_markers/) and [colors](http://matplotlib.org/api/colors_api.html). Also worth exploring are the colors in the [palettable library](https://jiffyclub.github.io/palettable/), where you can see the colors displayed at [http://colorbrewer2.org/](http://colorbrewer2.org/). Several color cycles here are color-blind safe. \n",
    "\n",
    "<font color='red'>**Change the colors in the plot above to something different, and add a cos(3x) curve.**</font>\n",
    "\n",
    "import matplotlib.pyplot as plt \n",
    "import numpy as np\n",
    "\n",
    "x = np.linspace(0, 3*np.pi, 300)\n",
    "\n",
    "y = np.sin(x)\n",
    "y2 = np.sin(x**2)\n",
    "y3 = np.cos(3*x)\n",
    "\n",
    "plt.plot(x, y, label=r'$\\sin(x)$', color = \"red\")\n",
    "plt.plot(x, y2, label=r'$\\sin(x^2)$', color = \"orange\")\n",
    "plt.plot(x, y3, label=r'$\\cos(3x)$', color = \"blue\")\n",
    "plt.title('Some functions')\n",
    "plt.xlabel('x')\n",
    "plt.ylabel('y')\n",
    "\n",
    "plt.grid(which='major')\n",
    "plt.legend(loc='lower left');\n",
    "\n",
    "## optional extras\n",
    "plt.minorticks_on()\n",
    "plt.tick_params(which='both', direction='in', tick2On=True)\n",
    "\n",
    "plt.show()\n"
   ]
  },
  {
   "cell_type": "markdown",
   "metadata": {
    "slideshow": {
     "slide_type": "slide"
    }
   },
   "source": [
    "## 6. AstroML Example\n",
    "\n",
    "Now let's download and run one of the astroML examples inside the Jupyter notebook."
   ]
  },
  {
   "cell_type": "code",
   "execution_count": null,
   "metadata": {
    "slideshow": {
     "slide_type": "subslide"
    }
   },
   "outputs": [],
   "source": [
    "! curl -O https://raw.githubusercontent.com/astroML/astroML/master/examples/datasets/plot_SDSS_SSPP.py"
   ]
  },
  {
   "cell_type": "code",
   "execution_count": null,
   "metadata": {
    "slideshow": {
     "slide_type": "subslide"
    }
   },
   "outputs": [],
   "source": [
    "# This will run the downloaded file\n",
    "# You may get some warnings, but don't worry too much about that. \n",
    "\n",
    "%matplotlib inline\n",
    "%config InlineBackend.figure_format='retina'\n",
    "\n",
    "%run ./plot_SDSS_SSPP.py"
   ]
  },
  {
   "cell_type": "markdown",
   "metadata": {
    "slideshow": {
     "slide_type": "slide"
    }
   },
   "source": [
    "## 7. Git Example\n",
    "\n",
    "<font color='red'>Lastly, let's practice some git</font>"
   ]
  },
  {
   "cell_type": "markdown",
   "metadata": {
    "slideshow": {
     "slide_type": "subslide"
    }
   },
   "source": [
    "1. create a new repository on github, with a README file. Name it `phys629_test`.\n",
    "\n",
    "2. activate the class python environment. \n",
    "\n",
    "3. clone your repo using:\n",
    "```bash\n",
    "cd ~/repos\n",
    "git clone https://github.com/YOUR_USERNAME/phys629_test\n",
    "```\n",
    "3. start Jupyter in the cloned directory\n",
    "```\n",
    "cd phys629_test\n",
    "jupyter notebook &\n",
    "```\n",
    "4. create a new notebook. Name it `hello.ipynb` (with File:Rename). Make sure that the kernel matches the class python envrionment `phys629`, and add a cell with the following piece of code:\n",
    "```python\n",
    "print(\"Hello World!\")\n",
    "```\n",
    "5. add the notebook to your git repository and commit by running (in the terminal window) the following:\n",
    "```bash\n",
    "git add hello.ipynb\n",
    "git commit -m \"Added hello.ipynb to repository.\"\n",
    "```\n",
    "6. see what happened:\n",
    "```bash\n",
    "git log\n",
    "```\n",
    "7. make another change in the Jupyter notebook. For example, add another cell (\"+\" icon on the toolbar) with the following:\n",
    "```python\n",
    "x = 2+2\n",
    "print(x)\n",
    "```\n",
    "8. see what happened\n",
    "```bash\n",
    "git status\n",
    "```\n",
    "9. commit changed files\n",
    "```\n",
    "git commit -am \"Updated hello.ipynb with complex mathematics.\"\n",
    "```\n",
    "10. \"push\" the changes to github\n",
    "```\n",
    "git push\n",
    "```\n",
    "11. go browse the result on github"
   ]
  },
  {
   "cell_type": "markdown",
   "metadata": {
    "slideshow": {
     "slide_type": "slide"
    }
   },
   "source": [
    "## Summary <a class=\"anchor\" id=\"eighth-bullet\"></a>\n",
    "\n",
    "At this point, all of you should have:\n",
    "\n",
    "* Installed the Anaconda/Miniconda Python Distribution with Python 3\n",
    "\n",
    "* Created a python environment for this class\n",
    "\n",
    "* A `GitHub` account and a basic understanding of `git`\n",
    "\n",
    "* Forked the class repository and set the `agupta-umiss` repo as your upstream.\n",
    "\n",
    "* Tried the Matplotlib, AstroML, and Git examples.\n",
    "\n",
    "Now we're ready to learn some statistical tools!"
   ]
  }
 ],
 "metadata": {
  "anaconda-cloud": {},
  "celltoolbar": "Slideshow",
  "kernelspec": {
   "display_name": "Python 3 (ipykernel)",
   "language": "python",
   "name": "python3"
  },
  "language_info": {
   "codemirror_mode": {
    "name": "ipython",
    "version": 3
   },
   "file_extension": ".py",
   "mimetype": "text/x-python",
   "name": "python",
   "nbconvert_exporter": "python",
   "pygments_lexer": "ipython3",
   "version": "3.8.17"
  }
 },
 "nbformat": 4,
 "nbformat_minor": 1
}
