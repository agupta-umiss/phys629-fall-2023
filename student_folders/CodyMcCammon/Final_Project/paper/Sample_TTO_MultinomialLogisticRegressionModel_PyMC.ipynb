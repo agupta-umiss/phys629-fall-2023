{
 "cells": [
  {
   "cell_type": "code",
   "execution_count": null,
   "id": "0245cc4b",
   "metadata": {},
   "outputs": [
    {
     "name": "stderr",
     "output_type": "stream",
     "text": [
      "/tmp/ipykernel_41087/2238542359.py:39: FutureWarning: Support for multi-dimensional indexing (e.g. `obj[:, None]`) is deprecated and will be removed in a future version.  Convert to a numpy array before indexing instead.\n",
      "  alpha_0 + alpha_1 * t[:, np.newaxis]\n",
      "/tmp/ipykernel_41087/2238542359.py:49: FutureWarning: In v4.0, pm.sample will return an `arviz.InferenceData` object instead of a `MultiTrace` by default. You can pass return_inferencedata=True or return_inferencedata=False to be safe and silence this warning.\n",
      "  trace = pm.sample(draws=1500, tune=750, discard_tuned_samples=True)\n"
     ]
    }
   ],
   "source": [
    "import numpy as np\n",
    "import pandas as pd\n",
    "import pymc3 as pm\n",
    "import theano.tensor as tt\n",
    "\n",
    "# Load the dataset\n",
    "data_path = \"../TTO_/data/TTO_dataset_510.csv\"\n",
    "df = pd.read_csv(data_path)\n",
    "\n",
    "# Extract relevant variables from the dataset\n",
    "t = df['BATTER_SEQ_NUM']\n",
    "X_pitcher_quality = df['PQ']\n",
    "X_batter_quality = df['BQ']\n",
    "hand_match = df['HAND_MATCH']\n",
    "home_indicator = df['BAT_HOME_IND']\n",
    "\n",
    "# Concatenate variables for x_i\n",
    "X_concatenated = np.column_stack((X_batter_quality, X_pitcher_quality, hand_match, home_indicator))\n",
    "\n",
    "# Function to create indicators for TTO categories\n",
    "def indicator_tto(t, start, end):\n",
    "    return np.array((start <= t) & (t <= end), dtype=int)\n",
    "\n",
    "# Model definition\n",
    "n_classes = 7 # Number of possible outcomes, 1-7\n",
    "n_obs = len(t)\n",
    "n_features = X_concatenated.shape[1]\n",
    "\n",
    "with pm.Model() as model:\n",
    "    # Coefficients and intercepts\n",
    "    alpha_0 = pm.Normal('alpha_0', 0, 1, shape=(n_classes,))  # Ensure shape is a tuple\n",
    "    alpha_1 = pm.HalfStudentT('alpha_1', nu=7, shape=(n_classes,))  # Ensure shape is a tuple\n",
    "    beta_2 = pm.Normal('beta_2', 0, 1, shape=(n_classes,))  # Ensure shape is a tuple\n",
    "    beta_3 = pm.Normal('beta_3', 0, 1, shape=(n_classes,))  # Ensure shape is a tuple\n",
    "    eta = pm.Normal('eta', 0, 1, shape=(n_classes, n_features))\n",
    "\n",
    "    # Log-odds\n",
    "    logits = (\n",
    "        alpha_0 + alpha_1 * t[:, np.newaxis]\n",
    "        + beta_2 * indicator_tto(t, 10, 18)[:, np.newaxis]\n",
    "        + beta_3 * indicator_tto(t, 19, 27)[:, np.newaxis]\n",
    "        + tt.dot(X_concatenated, eta.T)\n",
    "    )\n",
    "\n",
    "    # Multinomial likelihood\n",
    "    y_obs = pm.Categorical('y_obs', p=tt.nnet.softmax(logits), shape=n_obs)\n",
    "\n",
    "    # Model fitting with burn-in/tuning\n",
    "    trace = pm.sample(draws=1500, tune=750, discard_tuned_samples=True)\n",
    "\n",
    "# Print summary statistics of the posterior distribution\n",
    "print(pm.summary(trace))\n"
   ]
  },
  {
   "cell_type": "code",
   "execution_count": null,
   "id": "679fdafc",
   "metadata": {},
   "outputs": [],
   "source": []
  }
 ],
 "metadata": {
  "kernelspec": {
   "display_name": "Python [conda env:phys629] *",
   "language": "python",
   "name": "conda-env-phys629-py"
  },
  "language_info": {
   "codemirror_mode": {
    "name": "ipython",
    "version": 3
   },
   "file_extension": ".py",
   "mimetype": "text/x-python",
   "name": "python",
   "nbconvert_exporter": "python",
   "pygments_lexer": "ipython3",
   "version": "3.8.18"
  }
 },
 "nbformat": 4,
 "nbformat_minor": 5
}
