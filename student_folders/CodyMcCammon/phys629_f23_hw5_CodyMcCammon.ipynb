{
 "cells": [
  {
   "cell_type": "markdown",
   "metadata": {},
   "source": [
    "### Phys 629: Statistical Tools for Physics Research\n",
    "***Anuradha Gupta***\n",
    "\n",
    "# Homework 5\n",
    "### Due: Friday, Oct 6 at 11:59 pm CT"
   ]
  },
  {
   "cell_type": "markdown",
   "metadata": {},
   "source": [
    "## Problem 1\n",
    "\n",
    "This week we have only one problem worth 20 points. This problem uses a dataset in `/coursework/homeworks/hw_data/`.\n",
    "\n",
    "1) Read in `hw5_data.npy`. This is a (50 x 2) numpy array, with measurements in the first column and uncertainties in the second column. Using the analytic results for heteroscedastic Gaussian data from lectures, compute the sample mean and the standard error on the sample mean from for this data.\n",
    "\n",
    "2) Reusing some approaches and tools from `lecture_11`, write a ln-likelihood function for heteroscedastic Gaussian data, and use it in a fitting algorithm to find the best-fit mean. *Remember that scipy optimizers are set up to minimize functions.*\n",
    "\n",
    "3) Using the same numerical technique from `lecture_10`, compute the Fisher uncertainty estimate on the mean.\n",
    "\n",
    "4) While we have fitted a heteroscedastic Gaussian to this data, let's try something else. Write some code to define a ln-likelihood for a Laplace distribution evaluated on this data. Fit simultaneously for the Laplace location parameter $\\mu$ and scale parameter $\\Delta$.\n",
    "\n",
    "5) Compute the AIC values for the heteroscedastic Gaussian model and the Laplacian model. Which model is favored by the data?"
   ]
  },
  {
   "cell_type": "code",
   "execution_count": 2,
   "metadata": {},
   "outputs": [],
   "source": [
    "import numpy as np\n",
    "import matplotlib.pyplot as plt\n",
    "import scipy.stats\n",
    "\n",
    "data = np.load('../../homeworks/hw_data/hw5_data.npy')"
   ]
  },
  {
   "cell_type": "markdown",
   "metadata": {},
   "source": [
    "# 1.1 Calculate the sample mean and standard error"
   ]
  },
  {
   "cell_type": "code",
   "execution_count": 3,
   "metadata": {},
   "outputs": [
    {
     "name": "stdout",
     "output_type": "stream",
     "text": [
      "The maximum likelihood estimation of mean is 3.9179920346060557\n",
      "The uncertainty for the mean is 0.09481084100510956\n"
     ]
    }
   ],
   "source": [
    "values, sigma = data[:, 0], data[:, 1]\n",
    "\n",
    "mu_hat = np.sum(values / sigma ** 2) / np.sum(1 / sigma ** 2)\n",
    "sigma_mu = 1 / np.sqrt(np.sum(1 / sigma ** 2))\n",
    "\n",
    "print(f\"The maximum likelihood estimation of mean is {mu_hat}\")\n",
    "print(f\"The uncertainty for the mean is {sigma_mu}\")"
   ]
  },
  {
   "cell_type": "markdown",
   "metadata": {},
   "source": [
    "# 1.2 Best fit for ln-likelihood function for heteroscedastic Gaussian"
   ]
  },
  {
   "cell_type": "code",
   "execution_count": 9,
   "metadata": {},
   "outputs": [
    {
     "name": "stdout",
     "output_type": "stream",
     "text": [
      "The best-fit mean is 3.9179920276168665 which is very close to MLE of the mean given above.\n"
     ]
    }
   ],
   "source": [
    "from scipy import optimize\n",
    "\n",
    "mu = np.linspace(-1, 10, 10000)\n",
    "\n",
    "def ln_likelihood_gaussian(mu, values, sigma):\n",
    "    sum_residuals_gaussian = np.sum((values - mu) ** 2 / sigma ** 2 + np.log(sigma ** 2))\n",
    "    return 0.5 * sum_residuals_gaussian\n",
    "\n",
    "guess_gaussian = np.mean(values)\n",
    "best_fit = optimize.minimize(ln_likelihood_gaussian, guess_gaussian, args=(values, sigma)).x[0]\n",
    "\n",
    "print(\"The best-fit mean is\", best_fit, \"which is very close to MLE of the mean given above.\")\n"
   ]
  },
  {
   "cell_type": "markdown",
   "metadata": {},
   "source": [
    "# 1.3 Calculating the Fisher uncertainty matrix for the mean"
   ]
  },
  {
   "cell_type": "code",
   "execution_count": 11,
   "metadata": {},
   "outputs": [
    {
     "name": "stdout",
     "output_type": "stream",
     "text": [
      "The Fisher uncertainty measurement for the mean is: 0.09481084100510954\n"
     ]
    }
   ],
   "source": [
    "def compute_FIM(mu, values, sigma):\n",
    "    inv_square = 1 / np.square(sigma)\n",
    "    fisher_information_matrix = np.sum(inv_square)\n",
    "    return fisher_information_matrix\n",
    "\n",
    "fisher_information_matrix = compute_FIM(best_fit, values, sigma)\n",
    "\n",
    "# Directly compute sigma_mu, which will be 0 if fisher_information_matrix is 0\n",
    "sigma_mu = np.sqrt(1 / fisher_information_matrix)\n",
    "\n",
    "print(\"The Fisher uncertainty measurement for the mean is:\", sigma_mu)"
   ]
  },
  {
   "cell_type": "markdown",
   "metadata": {},
   "source": [
    "# 1.4 ln-likelihood for a Laplace distribution"
   ]
  },
  {
   "cell_type": "code",
   "execution_count": 14,
   "metadata": {},
   "outputs": [
    {
     "name": "stdout",
     "output_type": "stream",
     "text": [
      "Maximum likelihood estimate for Laplace location parameter and Laplace scale parameter (respectively) are: 4.0859516335725 and 0.8822692389909652\n"
     ]
    }
   ],
   "source": [
    "def ln_likelihood_laplacian(params, values):\n",
    "    mu, delta = params\n",
    "    neg_ln_likelihood_laplacian = -len(values) * np.log(2 * delta) - np.sum(np.abs(values - mu) / delta)\n",
    "    return -neg_ln_likelihood_laplacian \n",
    "\n",
    "guess_laplacian = [np.mean(values), np.std(values)]\n",
    "\n",
    "mu_mle, delta_mle = optimize.minimize(lambda params: ln_likelihood_laplacian(params, values), guess_laplacian).x\n",
    "\n",
    "print(\"Maximum likelihood estimate for Laplace location parameter and Laplace scale parameter (respectively) are:\", mu_mle,\"and\", delta_mle)\n"
   ]
  },
  {
   "cell_type": "markdown",
   "metadata": {},
   "source": [
    "# 1.5.1 Compute the AIC for each model"
   ]
  },
  {
   "cell_type": "code",
   "execution_count": 16,
   "metadata": {},
   "outputs": [
    {
     "ename": "NameError",
     "evalue": "name 'params_laplace' is not defined",
     "output_type": "error",
     "traceback": [
      "\u001b[0;31m---------------------------------------------------------------------------\u001b[0m",
      "\u001b[0;31mNameError\u001b[0m                                 Traceback (most recent call last)",
      "Cell \u001b[0;32mIn[16], line 11\u001b[0m\n\u001b[1;32m      9\u001b[0m \u001b[38;5;66;03m# Calculate the AIC values\u001b[39;00m\n\u001b[1;32m     10\u001b[0m AIC_gaussian \u001b[38;5;241m=\u001b[39m \u001b[38;5;241m-\u001b[39m\u001b[38;5;241m2\u001b[39m \u001b[38;5;241m*\u001b[39m \u001b[38;5;241m-\u001b[39mln_likelihood_gaussian(output_gaussian\u001b[38;5;241m.\u001b[39mx, values, sigma) \u001b[38;5;241m+\u001b[39m \u001b[38;5;241m2\u001b[39m \u001b[38;5;241m*\u001b[39m params_gaussian \u001b[38;5;241m+\u001b[39m (\u001b[38;5;241m2\u001b[39m \u001b[38;5;241m*\u001b[39m params_gaussian \u001b[38;5;241m*\u001b[39m (params_gaussian \u001b[38;5;241m+\u001b[39m \u001b[38;5;241m1\u001b[39m)) \u001b[38;5;241m/\u001b[39m (\u001b[38;5;28mlen\u001b[39m(values) \u001b[38;5;241m-\u001b[39m params_gaussian \u001b[38;5;241m-\u001b[39m \u001b[38;5;241m1\u001b[39m)\n\u001b[0;32m---> 11\u001b[0m AIC_laplacian \u001b[38;5;241m=\u001b[39m \u001b[38;5;241m-\u001b[39m\u001b[38;5;241m2\u001b[39m \u001b[38;5;241m*\u001b[39m \u001b[38;5;241m-\u001b[39mln_likelihood_laplacian(output_laplacian\u001b[38;5;241m.\u001b[39mx, values) \u001b[38;5;241m+\u001b[39m \u001b[38;5;241m2\u001b[39m \u001b[38;5;241m*\u001b[39m params_laplacian \u001b[38;5;241m+\u001b[39m (\u001b[38;5;241m2\u001b[39m \u001b[38;5;241m*\u001b[39m params_laplacian \u001b[38;5;241m*\u001b[39m (\u001b[43mparams_laplace\u001b[49m \u001b[38;5;241m+\u001b[39m \u001b[38;5;241m1\u001b[39m)) \u001b[38;5;241m/\u001b[39m (\u001b[38;5;28mlen\u001b[39m(values) \u001b[38;5;241m-\u001b[39m params_laplacian \u001b[38;5;241m-\u001b[39m \u001b[38;5;241m1\u001b[39m)\n\u001b[1;32m     13\u001b[0m \u001b[38;5;28mprint\u001b[39m(\u001b[38;5;124m\"\u001b[39m\u001b[38;5;124mThe AIC for Gaussian Model:\u001b[39m\u001b[38;5;124m\"\u001b[39m, AIC_gaussian)\n\u001b[1;32m     14\u001b[0m \u001b[38;5;28mprint\u001b[39m(\u001b[38;5;124m\"\u001b[39m\u001b[38;5;124mThe AIC for Laplacian Model:\u001b[39m\u001b[38;5;124m\"\u001b[39m, AIC_laplacian)\n",
      "\u001b[0;31mNameError\u001b[0m: name 'params_laplace' is not defined"
     ]
    }
   ],
   "source": [
    "# This could have been specified earlier but was used in-line instead. In the future, it may be more beneficial to define more variables for this exact reason.\n",
    "output_gaussian = optimize.minimize(ln_likelihood_gaussian, guess_gaussian, args=(values, sigma))\n",
    "output_laplacian = optimize.minimize(ln_likelihood_laplacian, guess_laplacian, args=(values,))\n",
    "\n",
    "# Specify the number of parameters for each\n",
    "params_laplacian = 2\n",
    "params_gaussian = 1\n",
    "\n",
    "# Calculate the AIC values\n",
    "AIC_gaussian = -2 * -ln_likelihood_gaussian(output_gaussian.x, values, sigma) + 2 * params_gaussian + (2 * params_gaussian * (params_gaussian + 1)) / (len(values) - params_gaussian - 1)\n",
    "AIC_laplacian = -2 * -ln_likelihood_laplacian(output_laplacian.x, values) + 2 * params_laplacian + (2 * params_laplacian * (params_laplace + 1)) / (len(values) - params_laplacian - 1)\n",
    "\n",
    "print(\"The AIC for Gaussian Model:\", AIC_gaussian)\n",
    "print(\"The AIC for Laplacian Model:\", AIC_laplacian)\n"
   ]
  },
  {
   "cell_type": "markdown",
   "metadata": {},
   "source": [
    "# 1.5.2 Which model is favored by the data?\n",
    "\n",
    "The Gaussian model shows the smaller AIC value so it is preferred. It has the fewer parameters so this checks out."
   ]
  },
  {
   "cell_type": "code",
   "execution_count": null,
   "metadata": {},
   "outputs": [],
   "source": []
  }
 ],
 "metadata": {
  "anaconda-cloud": {},
  "kernelspec": {
   "display_name": "Python 3 (ipykernel)",
   "language": "python",
   "name": "python3"
  },
  "language_info": {
   "codemirror_mode": {
    "name": "ipython",
    "version": 3
   },
   "file_extension": ".py",
   "mimetype": "text/x-python",
   "name": "python",
   "nbconvert_exporter": "python",
   "pygments_lexer": "ipython3",
   "version": "3.8.18"
  }
 },
 "nbformat": 4,
 "nbformat_minor": 2
}
