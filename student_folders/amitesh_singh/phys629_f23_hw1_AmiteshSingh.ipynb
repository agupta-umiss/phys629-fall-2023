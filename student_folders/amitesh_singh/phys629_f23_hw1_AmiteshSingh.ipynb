{
 "cells": [
  {
   "cell_type": "markdown",
   "metadata": {},
   "source": [
    "### Phys 629: Statistical Tools for Physics Research\n",
    "***Anuradha Gupta***\n",
    "___\n",
    "# Homework 1\n",
    "### Due: Friday, Sep 01 at 11:59 pm CT\n",
    "---"
   ]
  },
  {
   "cell_type": "markdown",
   "metadata": {},
   "source": [
    "## Problem 1\n",
    "\n",
    "Practice your git and GitHub skills by submitting this homework via GitHub.  You can skip Steps 1-4 if you have already completed the in-class work of lecture 1b.  Steps 5-11 are the new steps.  \n",
    "\n",
    "1) Navigate to https://github.com/agupta-umiss/phys629-fall-2023 on your browser. **Don't clone this!** Instead, look to the rop right of the page for an option to fork the repository. Do this now. This will make a copy of the course repository for your own personal use.\n",
    "\n",
    "2) Now that you have a fork of the repository, clone it to your machine.\n",
    "\n",
    "    $ git clone https://github.com/YOUR_USERNAME/phys629-fall-2023\n",
    "\n",
    "3) Add the original `agupta-umiss` repository as an `upstream` repository to your fork. First, list the current configured remote repository for your fork with:\n",
    "\n",
    "    $ git remote -v\n",
    "    \n",
    "Now, add the `agupta-umiss` repo as an upstream:\n",
    "\n",
    "    $ git remote add upstream https://github.com/agupta-umiss/phys629-fall-2023\n",
    "    \n",
    "Verify that the new repository shows as an `upstream` by running `git remote -v` again.\n",
    "\n",
    "4) Get used to syncing upstream content to your fork with:\n",
    "\n",
    "    $ git fetch upstream\n",
    "    \n",
    "    $ git checkout main\n",
    "    \n",
    "    $ git merge upstream/main\n",
    "\n",
    "5) Now, navigate to `student_folders` folder. Make a folder in here labeled by your name in all lowercase (i.e., `firstname_lastname`).\n",
    "\n",
    "6) Copy your completed lecture notebooks (with all exercises in red finished) to your folder, adding your name to the file (e.g., `lecture_1_FirstnameLastname.ipynb`). This is what you will do for each week's lecture notebooks to get participation credit. Your lecture notebooks should have already been copies of my base lecture notebooks. **Never** run my base notebooks; always make a personal copy for yourself.\n",
    "\n",
    "7) Copy the **Homework 1** notebook (this file) to your folder, adding your name (e.g., `phys629_f23_hw1_FirstnameLastname.ipynb`) \n",
    "\n",
    "8) Complete the other problems listed below.\n",
    "\n",
    "9) Submit your homework as follows (making sure that your added files are contained within your student folder):\n",
    "\n",
    "    $ git add phys629_f23_hw1_FirstnameLastname.ipynb\n",
    "    \n",
    "    $ git commit -m \"Uploaded Homework 1\"\n",
    "    \n",
    "    $ git push\n",
    "   \n",
    "10) Similarly add, commit, and push your completed lecture notebooks. \n",
    "\n",
    "11) On your browser, navigate on GitHub to your fork of the course repository. You should see an option to initiate a `pull request` to merge your changes into the `main` repository. Your homework and lecture notebooks for the week are submitted when you initiate this pull request."
   ]
  },
  {
   "cell_type": "markdown",
   "metadata": {},
   "source": [
    "## Problem 2\n",
    "\n",
    "Let's take the exmaple of a coin flip. The coin is fair, so the probability of a head and a tail is same, i.e., $p(H)=0.5$ and $p(T)=0.5$. You flipped the coin twice.\n",
    "\n",
    "1) What is the probability of one head and one tail given that the first flip was head. \n",
    "\n",
    "2) What is the probability of two tails given that at least one flip was tail.\n",
    "\n",
    "3) What is the probability of two tails given that the first flip was tail.\n",
    "\n",
    "Remember that \"given\" means your calculation is conditioned on some already fixed data or outcome. \n",
    "\n",
    "Either write your solution as Markdown/Latex below, or paste in a scanned image of your handwritten solution."
   ]
  },
  {
   "cell_type": "markdown",
   "metadata": {},
   "source": [
    "<h1> Solution 2 </h1>"
   ]
  },
  {
   "cell_type": "markdown",
   "metadata": {},
   "source": [
    "1. As soon as we know that the first flip (with probability p(A)) produced a head, we have no choice but to get a tail in the second throw (with probability p(B)). \n",
    "\n",
    "Thus we have to find the conditional probability $p(B|A)$. This can be found by:\n",
    "\n",
    "$p(B|A) = \\frac{p(A,B)}{p(A)}$, where $p(A,B)$ is called the joint probability of A and B.\n",
    "\n",
    "Thus, $p(B|A) = \\frac {(0.5)(0.5)}{0.5} = 0.5$\n",
    "\n",
    "\n",
    "2. In this case, p(A) = probability that atleast one flip produced a tail = $\\frac{3}{4} = 0.75$\n",
    "\n",
    "Now p(B) = probability of two tails = $(0.5)(0.5) = 0.25$.\n",
    "\n",
    "The conditional probability $p(B|A) = \\frac{p(A,B)}{p(A)} = \\frac{0.25}{0.75} = \\frac{1}{3} = 0.333...$\n",
    "\n",
    "\n",
    "3. In this case, p(A) = first flip produced a tail = 0.5, while \n",
    "p(B) = both flips produced tails (2 tails) = 0.25\n",
    "\n",
    "Thus, $p(B|A) = \\frac{p(A,B)}{p(A)} = \\frac{0.25}{0.5} = 0.5$\n",
    "\n",
    "\n"
   ]
  },
  {
   "cell_type": "markdown",
   "metadata": {},
   "source": [
    "## Problem 3\n",
    "\n",
    "You purchase a certain product. The manual states that the lifetime T of the product, defined as the amount of time (in years) the product works properly until it breaks down, satisfies $p(T \\geq t)=e^{−t/5}$ for all $t\\geq0$. For example, the probability that the product lasts more than (or equal to) 2 years is $p(T\\geq2)=e^{−2/5}=0.6703$. This is an example of a continuous probability model. \n",
    "1) Find the probability that the product breaks down within three years of the purchase time.\n",
    "\n",
    "2) Find the probability that the product breaks down in the second year."
   ]
  },
  {
   "cell_type": "markdown",
   "metadata": {},
   "source": [
    "<h1> Solution 3 </h1>"
   ]
  },
  {
   "cell_type": "markdown",
   "metadata": {},
   "source": [
    "The probability distribution function for the lifetime is given as:\n",
    "\n",
    "𝑝(𝑇≥𝑡)=$𝑒^{−𝑡/5}$\n",
    "\n",
    "1. Probability that product breaks down within three years of the purchase time is the same as the cumulative probability,\n",
    "\n",
    "$p(0 \\le T \\le 3) = \\int_{0}^{3} p(T \\ge t)dt = \\int_{0}^{3} 𝑒^{−𝑡/5}dt = 0.3499 \\approx 0.35$\n",
    "\n",
    "2.  Probability that product breaks down in the second year:\n",
    "\n",
    "$p(1 \\le T \\le 2) = \\int_{1}^{2} p(T \\ge t)dt = \\int_{1}^{2} 𝑒^{−𝑡/5}dt \\approx 0.1497 $"
   ]
  },
  {
   "cell_type": "code",
   "execution_count": null,
   "metadata": {},
   "outputs": [],
   "source": []
  }
 ],
 "metadata": {
  "anaconda-cloud": {},
  "kernelspec": {
   "display_name": "Python 3 (ipykernel)",
   "language": "python",
   "name": "python3"
  },
  "language_info": {
   "codemirror_mode": {
    "name": "ipython",
    "version": 3
   },
   "file_extension": ".py",
   "mimetype": "text/x-python",
   "name": "python",
   "nbconvert_exporter": "python",
   "pygments_lexer": "ipython3",
   "version": "3.8.17"
  }
 },
 "nbformat": 4,
 "nbformat_minor": 2
}
