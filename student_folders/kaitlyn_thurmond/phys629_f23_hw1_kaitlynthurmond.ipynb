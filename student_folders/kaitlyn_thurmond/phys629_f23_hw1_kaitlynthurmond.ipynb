{
 "cells": [
  {
   "cell_type": "markdown",
   "metadata": {},
   "source": [
    "### Phys 629: Statistical Tools for Physics Research\n",
    "***Anuradha Gupta***\n",
    "___\n",
    "# Homework 1\n",
    "### Due: Friday, Sep 01 at 11:59 pm CT\n",
    "---"
   ]
  },
  {
   "cell_type": "markdown",
   "metadata": {},
   "source": [
    "## Problem 1\n",
    "\n",
    "Practice your git and GitHub skills by submitting this homework via GitHub.  You can skip Steps 1-4 if you have already completed the in-class work of lecture 1b.  Steps 5-11 are the new steps.  \n",
    "\n",
    "1) Navigate to https://github.com/agupta-umiss/phys629-fall-2023 on your browser. **Don't clone this!** Instead, look to the rop right of the page for an option to fork the repository. Do this now. This will make a copy of the course repository for your own personal use.\n",
    "\n",
    "2) Now that you have a fork of the repository, clone it to your machine.\n",
    "\n",
    "    $ git clone https://github.com/YOUR_USERNAME/phys629-fall-2023\n",
    "\n",
    "3) Add the original `agupta-umiss` repository as an `upstream` repository to your fork. First, list the current configured remote repository for your fork with:\n",
    "\n",
    "    $ git remote -v\n",
    "    \n",
    "Now, add the `agupta-umiss` repo as an upstream:\n",
    "\n",
    "    $ git remote add upstream https://github.com/agupta-umiss/phys629-fall-2023\n",
    "    \n",
    "Verify that the new repository shows as an `upstream` by running `git remote -v` again.\n",
    "\n",
    "4) Get used to syncing upstream content to your fork with:\n",
    "\n",
    "    $ git fetch upstream\n",
    "    \n",
    "    $ git checkout main\n",
    "    \n",
    "    $ git merge upstream/main\n",
    "\n",
    "5) Now, navigate to `student_folders` folder. Make a folder in here labeled by your name in all lowercase (i.e., `firstname_lastname`).\n",
    "\n",
    "6) Copy your completed lecture notebooks (with all exercises in red finished) to your folder, adding your name to the file (e.g., `lecture_1_FirstnameLastname.ipynb`). This is what you will do for each week's lecture notebooks to get participation credit. Your lecture notebooks should have already been copies of my base lecture notebooks. **Never** run my base notebooks; always make a personal copy for yourself.\n",
    "\n",
    "7) Copy the **Homework 1** notebook (this file) to your folder, adding your name (e.g., `phys629_f23_hw1_FirstnameLastname.ipynb`) \n",
    "\n",
    "8) Complete the other problems listed below.\n",
    "\n",
    "9) Submit your homework as follows (making sure that your added files are contained within your student folder):\n",
    "\n",
    "    $ git add phys629_f23_hw1_FirstnameLastname.ipynb\n",
    "    \n",
    "    $ git commit -m \"Uploaded Homework 1\"\n",
    "    \n",
    "    $ git push\n",
    "   \n",
    "10) Similarly add, commit, and push your completed lecture notebooks. \n",
    "\n",
    "11) On your browser, navigate on GitHub to your fork of the course repository. You should see an option to initiate a `pull request` to merge your changes into the `main` repository. Your homework and lecture notebooks for the week are submitted when you initiate this pull request."
   ]
  },
  {
   "cell_type": "markdown",
   "metadata": {},
   "source": [
    "## Problem 2\n",
    "\n",
    "Let's take the exmaple of a coin flip. The coin is fair, so the probability of a head and a tail is same, i.e., $p(H)=0.5$ and $p(T)=0.5$. You flipped the coin twice.\n",
    "\n",
    "1) What is the probability of one head and one tail given that the first flip was head. \n",
    "\n",
    "2) What is the probability of two tails given that at least one flip was tail.\n",
    "\n",
    "3) What is the probability of two tails given that the first flip was tail.\n",
    "\n",
    "Remember that \"given\" means your calculation is conditioned on some already fixed data or outcome. \n",
    "\n",
    "Either write your solution as Markdown/Latex below, or paste in a scanned image of your handwritten solution.\n",
    "\n",
    "1) $$p(H \\cap T) = p(T|H)p(H) = 0.5*1 = 0.5$$\n",
    "2) $$p(T \\cap T) = p(T|T)p(T) = 0.5*1 = 0.5$$\n",
    "3) $$p(T \\cap T) = p(T|T)p(T) = 0.5*1 = 0.5$$"
   ]
  },
  {
   "cell_type": "markdown",
   "metadata": {},
   "source": [
    "## Problem 3\n",
    "\n",
    "You purchase a certain product. The manual states that the lifetime T of the product, defined as the amount of time (in years) the product works properly until it breaks down, satisfies $p(T \\geq t)=e^{−t/5}$ for all $t\\geq0$. For example, the probability that the product lasts more than (or equal to) 2 years is $p(T\\geq2)=e^{−2/5}=0.6703$. This is an example of a continuous probability model. \n",
    "1) Find the probability that the product breaks down within three years of the purchase time.\n",
    "~0.45\n",
    "\n",
    "2) Find the probability that the product breaks down in the second year.\n",
    "~0.12"
   ]
  },
  {
   "cell_type": "code",
   "execution_count": 5,
   "metadata": {},
   "outputs": [
    {
     "data": {
      "text/plain": [
       "0.4511883639059736"
      ]
     },
     "execution_count": 5,
     "metadata": {},
     "output_type": "execute_result"
    }
   ],
   "source": [
    "import math\n",
    "1-(math.exp(-3/5))"
   ]
  },
  {
   "cell_type": "code",
   "execution_count": 6,
   "metadata": {},
   "outputs": [
    {
     "data": {
      "text/plain": [
       "0.12150840994161294"
      ]
     },
     "execution_count": 6,
     "metadata": {},
     "output_type": "execute_result"
    }
   ],
   "source": [
    "import math\n",
    "(math.exp(-2/5))-(math.exp(-3/5))"
   ]
  }
 ],
 "metadata": {
  "anaconda-cloud": {},
  "kernelspec": {
   "display_name": "Python [conda env:phys629] *",
   "language": "python",
   "name": "conda-env-phys629-py"
  },
  "language_info": {
   "codemirror_mode": {
    "name": "ipython",
    "version": 3
   },
   "file_extension": ".py",
   "mimetype": "text/x-python",
   "name": "python",
   "nbconvert_exporter": "python",
   "pygments_lexer": "ipython3",
   "version": "3.8.17"
  }
 },
 "nbformat": 4,
 "nbformat_minor": 2
}
