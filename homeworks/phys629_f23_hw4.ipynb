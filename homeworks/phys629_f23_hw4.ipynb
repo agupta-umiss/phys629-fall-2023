{
 "cells": [
  {
   "cell_type": "markdown",
   "metadata": {},
   "source": [
    "### Phys 629: Statistical Tools for Physics Research\n",
    "***Anuradha Gupta***\n",
    "\n",
    "# Homework 4\n",
    "### Due: Friday, Sep 22 at 11:59 pm CT"
   ]
  },
  {
   "cell_type": "markdown",
   "metadata": {},
   "source": [
    "## Problem 1\n",
    "\n",
    "This one is on correlation coefficients. We want to find the link between the price of a 500 ml bottle of water and the distance from the city center. We might expect to find that the price of a bottle of water decreases as the distance from the city center increases. Higher property rents close to the city center should be reflected in higher prices in the shops.\n",
    "\n",
    "The hypothesis might be written like this:\n",
    "\"The price of a water bottle decreases as distance from the city center increases.\"\n",
    "\n",
    "The more objective scientific research method is always to assume that no such price-distance relationship exists (i.e., there is no correlation) and to express the null hypothesis as:\n",
    "\"There is no significant relationship between the price of a water bottle and distance from the city center.\"\n",
    "\n",
    "The data are given in the table below. Compute the Pearson's, Spearman's, and Kendall's correlation coefficients and find the significance level by which the null hypothesis is rejected. Show all your calculation and work using python and Markdown. \n",
    "\n",
    "| Distance (m)| price ($) |\n",
    "|-------- | ------- |\n",
    "| 50  | 1.80    |\n",
    "| 175 | 1.20    |\n",
    "| 270 | 2.00    |\n",
    "| 375 | 1.50    |\n",
    "| 425 | 0.80    |\n",
    "| 580 | 0.60    |\n",
    "| 710 | 1.05    |\n",
    "| 790 | 0.85    |\n",
    "| 890 | 0.90    |\n",
    "| 980 | 1.00    |\n",
    "| 1000| 0.95    |"
   ]
  },
  {
   "cell_type": "markdown",
   "metadata": {},
   "source": [
    "## Problem 2\n",
    "\n",
    "This question is about IQ. It's a flawed and questionable metric, but useful for this problem. By definition, IQ is calibrated as a Gaussian distribution with $\\mu=100$ and $\\sigma=15$. \n",
    "\n",
    "1) Create a `scipy.stats` Gaussian object with these properties. Plot the distribution, and print out 10 random draws, along with the pdf at $x=145$. \n",
    "\n",
    "2) Access the `cdf` property of the Gaussian object and plot it over the same $x$-range as in (1) but in a different figure. Access the `ppf` property (percent point function) and use *inverse transform sampling* of the cdf to draw $10^4$ random samples, and make a histogram of these. Overplot the pdf from (1). These should match.\n",
    "\n",
    "3) What fraction of people have IQ > 145? *Hint: investigate all the properties of the Gaussian object from (1) to find the relevant property that gives you this, or perform a calculation involving the cdf.*\n",
    "\n",
    "4) What IQ corresponds to \"one in a million\"?"
   ]
  }
 ],
 "metadata": {
  "anaconda-cloud": {},
  "kernelspec": {
   "display_name": "Python 3 (ipykernel)",
   "language": "python",
   "name": "python3"
  },
  "language_info": {
   "codemirror_mode": {
    "name": "ipython",
    "version": 3
   },
   "file_extension": ".py",
   "mimetype": "text/x-python",
   "name": "python",
   "nbconvert_exporter": "python",
   "pygments_lexer": "ipython3",
   "version": "3.8.17"
  }
 },
 "nbformat": 4,
 "nbformat_minor": 2
}
