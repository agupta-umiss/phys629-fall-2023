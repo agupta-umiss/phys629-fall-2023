{
 "cells": [
  {
   "cell_type": "markdown",
   "metadata": {},
   "source": [
    "### Phys 629: Statistical Tools for Physics Research\n",
    "***Anuradha Gupta***\n",
    "\n",
    "# Homework 2\n",
    "### Due: Friday, Sep 08 at 11:59 pm CT"
   ]
  },
  {
   "cell_type": "markdown",
   "metadata": {},
   "source": [
    "## Problem 1\n",
    "\n",
    "1) Use `numpy` to draw $1000$ random samples from a uniform distribution between $1$ and $10$, and store these samples as $x$.\n",
    "\n",
    "2) Use matplotlib to make a histogram of these samples. Try to make this as aesthetically pleasing as possible (within reason).\n",
    "\n",
    "3) Compute the exponential of your array $x$, and store this as $y$.\n",
    "\n",
    "4) Make another histogram for $y$. Using the equation to transform probability distributions in `lecture_3`, write here what the theoretical pdf of $y$ is, and overplot it onto your histogram.\n",
    "\n",
    "5) Compute the mean of $x$ and the mean of $y$. Now compute the median of $x$ and the median of $y$. How the mean and median of x and y compare to each other?"
   ]
  },
  {
   "cell_type": "markdown",
   "metadata": {},
   "source": [
    "## Problem 2\n",
    "\n",
    "This question is about Monte Carlo integration. The 3$\\sigma$ Gaussian confidence level takes the form \n",
    "\n",
    "$$ \\int_{-3}^{3} \\frac{1}{\\sqrt{2\\pi}} \\exp\\left(-\\frac{x^2}{2}\\right) \\,dx \\approx 0.997625$$\n",
    "\n",
    "1) Write down a python code to plot this Gaussian distribution. Can you tell what is the mean and standard daviation of this Gaussain?\n",
    "\n",
    "\n",
    "2) Draw $N=10^5$ samples from a Gaussian distribution with mean 0 and standard deviation 3 and then perform Monte Carlo integration using the expression on the left hand side above. Confirm that this *approximately* matches the value given the right hand side of the equation.\n",
    "\n",
    "3) Repeat (2) for $N=[10^2,10^3,10^4]$, computing the integral using $100$ different batches of random samples for each $N$. Record all calculated values at all $N$. \n",
    "\n",
    "4) Make a plot that shows $\\log_{10}N$ along the $x$-axis and the spread between the maximum and minimum Monte Carlo integral values that you get at each $N$ on the $y$-axis. (Note: matplotlib's `fill_between` command is useful for this). Plot a horizontal line on the same figure to show the precise mathematical value. You should see that Monte Carlo integration results in less numerical spread as $N$ gets larger.\n",
    "\n",
    "5) What if you had drawn N samples from a uniform distribution between $[-3, 3]$, how the accuracy of your results have changed?"
   ]
  },
  {
   "cell_type": "markdown",
   "metadata": {},
   "source": [
    "## Problem 3\n",
    "Let x be a continuous random variable with pdf given by $$p(x)=\\frac{1}{2}e^{−|x|},$$ for all $x\\in\\mathbb{R}$. If $y=x^2$, find the cdf of y."
   ]
  },
  {
   "cell_type": "code",
   "execution_count": null,
   "metadata": {},
   "outputs": [],
   "source": []
  }
 ],
 "metadata": {
  "anaconda-cloud": {},
  "kernelspec": {
   "display_name": "Python 3 (ipykernel)",
   "language": "python",
   "name": "python3"
  },
  "language_info": {
   "codemirror_mode": {
    "name": "ipython",
    "version": 3
   },
   "file_extension": ".py",
   "mimetype": "text/x-python",
   "name": "python",
   "nbconvert_exporter": "python",
   "pygments_lexer": "ipython3",
   "version": "3.8.17"
  }
 },
 "nbformat": 4,
 "nbformat_minor": 2
}
