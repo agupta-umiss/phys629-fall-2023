{
 "cells": [
  {
   "cell_type": "markdown",
   "metadata": {
    "slideshow": {
     "slide_type": "slide"
    }
   },
   "source": [
    "### Phys 629, Fall 2023, University of Mississippi\n",
    "\n",
    "\n",
    "# Lecture 13, Chapter 4: Classical Statistical Inference\n",
    "\n",
    "Material in this lecture and notebook is based upon the Basic Stats portion of G. Richards' \"Astrostatistics\" class at Drexel University (PHYS 440/540, https://github.com/gtrichards/PHYS_440_540), the Introduction to Probability & Statistics portion of A. Connolly's & Ž. Ivezić's \"Astrostatistics & Machine Learning\" class at the University of Washington (ASTR 598, https://github.com/dirac-institute/uw-astr598-w18), J. Bovy's mini-course on \"Statistics & Inference in Astrophysics\" at the University of Toronto (http://astro.utoronto.ca/~bovy/teaching.html), and Stephen R. Taylor (https://github.com/VanderbiltAstronomy/astr_8070_s22). \n",
    "\n",
    "##### Reading:\n",
    "\n",
    "- [Textbook](http://press.princeton.edu/titles/10159.html) Chapter 4.\n",
    "\n",
    "***Exercises required for class participation are in <font color='red'>red</font>.***"
   ]
  },
  {
   "cell_type": "markdown",
   "metadata": {
    "slideshow": {
     "slide_type": "slide"
    }
   },
   "source": [
    "In classification decisions, we make two types of errors. These are quite literally described as **Type I** and **Type II** errors by *Neyman & Pearson*.\n",
    "\n",
    "**TYPE I ERRORS**\n",
    "- The null hypothesis is true, but incorrectly rejected.\n",
    "- These are ***false positives*** (or false alarms).\n",
    "- False positive probability is dictated by the significance level $\\alpha$. \n",
    "\n",
    "**TYPE II ERRORS**\n",
    "- The null hypothesis is false, but not rejected.\n",
    "- These are ***false negatives*** (or false dismissals).\n",
    "- False negatives probability is dictated by a variable called $\\beta$, related to $(1-\\beta)$, called the ***detection probability***."
   ]
  },
  {
   "cell_type": "markdown",
   "metadata": {
    "slideshow": {
     "slide_type": "slide"
    }
   },
   "source": [
    "Let's take a look at Fig 4.5 of Ivezic, v2. We have two Gaussian distributions; one describing the background noise and one describing the source. These distributions overlap, as they often do in real life.\n",
    "\n",
    "<font color='red'>Execute the following cell. We'll discuss it more below.</font>"
   ]
  },
  {
   "cell_type": "code",
   "execution_count": null,
   "metadata": {
    "slideshow": {
     "slide_type": "slide"
    }
   },
   "outputs": [],
   "source": [
    "# %load ./scripts/fig_classification_example.py\n",
    "\"\"\"\n",
    "Example of classification\n",
    "-------------------------\n",
    "Figure 4.5.\n",
    "\n",
    "An example of a simple classification problem between two Gaussian\n",
    "distributions. Given a value of x, we need to assign that measurement to one\n",
    "of the two distributions (background vs. source). The cut at xc = 120 leads\n",
    "to very few Type II errors (i.e., false negatives: points from the distribution\n",
    "hS with x < xc being classified as background), but this comes at the cost of\n",
    "a significant number of Type I errors (i.e., false positives: points from the\n",
    "distribution :math:`h_B` with x > xc being classified as sources).\n",
    "\"\"\"\n",
    "# Author: Jake VanderPlas\n",
    "# License: BSD\n",
    "#   The figure produced by this code is published in the textbook\n",
    "#   \"Statistics, Data Mining, and Machine Learning in Astronomy\" (2013)\n",
    "#   For more information, see http://astroML.github.com\n",
    "#   To report a bug or issue, use the following forum:\n",
    "#    https://groups.google.com/forum/#!forum/astroml-general\n",
    "\n",
    "#------------------------------------------------------------\n",
    "# Generate and draw the curves\n",
    "import numpy as np\n",
    "import scipy.stats as stats\n",
    "from scipy.stats import norm\n",
    "\n",
    "from matplotlib import pyplot as plt\n",
    "%matplotlib inline\n",
    "%config InlineBackend.figure_format='retina'\n",
    "\n",
    "x = np.linspace(50, 200, 1000)\n",
    "p1 = 0.9 * norm(100, 10).pdf(x)\n",
    "p2 = 0.1 * norm(150, 12).pdf(x)\n",
    "\n",
    "fig, ax = plt.subplots(figsize=(12, 7))\n",
    "ax.fill(x, p1, ec='k', \n",
    "        fc='#AAAAAA', alpha=0.5)\n",
    "ax.fill(x, p2, '-k', \n",
    "        fc='#AAAAAA', alpha=0.5)\n",
    "\n",
    "ax.plot([120, 120], \n",
    "        [0.0, 0.04], '--k')\n",
    "\n",
    "ax.text(100, 0.036, r'$h_B(x)$', ha='center', \n",
    "        va='bottom', fontsize=15)\n",
    "ax.text(150, 0.0035, r'$h_S(x)$', ha='center', \n",
    "        va='bottom', fontsize=15)\n",
    "ax.text(122, 0.039, r'$x_c=120$', ha='left', \n",
    "        va='top', fontsize=15)\n",
    "ax.text(125, 0.01, \n",
    "        r'$(x > x_c\\ {\\rm classified\\ as\\ sources})$', \n",
    "        fontsize=15)\n",
    "\n",
    "ax.set_xlim(50, 200)\n",
    "ax.set_ylim(0, 0.04)\n",
    "\n",
    "ax.set_xlabel('$x$')\n",
    "ax.set_ylabel('$p(x)$')\n",
    "plt.show()"
   ]
  },
  {
   "cell_type": "markdown",
   "metadata": {
    "slideshow": {
     "slide_type": "slide"
    }
   },
   "source": [
    "In this example, we have data $\\{x_i\\}$ drawn from an underlying distribution\n",
    "\n",
    "$$ h(x) = (1-a)h_B(x) + ah_S(x)$$\n",
    "\n",
    "where $h_B(x)=\\mathcal{N}(\\mu=100,\\sigma=10)$ is the background distribution (normalized to unity), $h_S(x)=\\mathcal{N}(\\mu=150,\\sigma=12)$ is the source distribution (normalized to unity), and $a$ is the relative normalization factor that accounts for background noise being $(1-a)/a$ more probable than sources.\n",
    "\n",
    "- ***If we set a classificiation threshold at $x_c=120$, calculate the Type I error (false positive) probability, $\\alpha$.***\n",
    "- ***For the same $x_c$, calculate the Type II error (false negative) probability, $\\beta$.***"
   ]
  },
  {
   "cell_type": "markdown",
   "metadata": {
    "slideshow": {
     "slide_type": "slide"
    }
   },
   "source": [
    "For a sample of size $N$ (containing background noise and sources), the **expected number of spurious sources (Type I / false positives)** is \n",
    "\n",
    "$$ n_\\mathrm{spurious} = N(1-a)\\alpha = N(1-a)\\int_{x_c}^\\infty h_B(x)dx$$ \n",
    "\n",
    "and the **expected number of missed sources (Type II / false negatives)** is\n",
    "\n",
    "$$ n_\\mathrm{missed} = Na\\beta = Na\\int_0^{x_c}h_S(x)dx.$$\n",
    "\n",
    "The **total number of classified sources** (that is number of instances where we reject the null hypothesis) is\n",
    "\n",
    "$$ n_\\mathrm{source} = Na - n_\\mathrm{missed} + n_\\mathrm{spurious} = N[(1-\\beta)a + (1-a)\\alpha].$$\n",
    "\n",
    "The **sample completeness** (or **detection probability**) is defined as\n",
    "\n",
    "$$ \\eta = \\frac{Na - n_\\mathrm{missed}}{Na} = 1-\\int_0^{x_c}h_S(x)dx = 1-\\beta$$\n",
    "\n",
    "Finally, the **sample contamination** is\n",
    "\n",
    "$$ \\epsilon = \\frac{n_\\mathrm{spurious}}{n_\\mathrm{source}}$$\n",
    "\n",
    "where $(1-\\epsilon)$ is sometimes called the **classification efficiency**."
   ]
  },
  {
   "cell_type": "markdown",
   "metadata": {
    "slideshow": {
     "slide_type": "slide"
    }
   },
   "source": [
    "## Comparing Distributions <a class=\"anchor\" id=\"two\"></a>\n",
    "\n",
    "Hypothesis testing is strongly linked to the **comparison of distributions**. Common questions are whether two samples are drawn from the same distribution, or whether a sample is drawn from some known distribution (like a Gaussian).\n",
    "\n",
    "Sometimes we may be only interested in the location parameter of some underlying distribution. For example, do two gravitational-wave detectors with different measurement uncertainties and local effects measure consistent masses of a merging system of black holes?\n",
    "\n",
    "There is enormous variety in the nonparameteric and parameteric statistics to compare distributions, and we'll only look at a few. See the textbook and wider literature for further examples."
   ]
  },
  {
   "cell_type": "markdown",
   "metadata": {
    "slideshow": {
     "slide_type": "slide"
    }
   },
   "source": [
    "### Kolmogorov-Smirnov (KS) Test\n",
    "\n",
    "By far the most popular nonparametric statistic to compare distribution is the KS test. We compute the empirical cdf $F(x)$ for two samples $\\{x1_i\\} = (1,\\ldots,N_1)$ and $\\{x2_i\\} = (1,\\ldots,N_2)$. *Recall that the empirical cdf can be calculated by sorting the samples and dividing by the sample size.*\n",
    "\n",
    "The KS test is based on a statistic that measures the maximum difference in the cdfs of our two samples\n",
    "\n",
    "$$ D = \\mathrm{max}|F_1(x1) - F_2(x2)|$$\n",
    "\n",
    "where $0\\leq D\\leq 1$. \n",
    "\n",
    "> The core idea is to know how often the value of $D$ computed from our data would arise by chance if both samples were drawn from the same distribution (which is our *null hypothesis* here). \n",
    "\n",
    "Amazingly, ***this does not depend on the underlying distribution we care about!*** Kolmogorov published the following result in 1933 and Smirnov published numerical tables in 1948. The probability of obtaining a value of $D$ larger than that observed in our data is\n",
    "\n",
    "$$ Q_\\mathrm{KS}(\\lambda) = 2\\sum_{k=1}^\\infty (-1)^{k-1}\\exp(-2k^2\\lambda^2)$$\n",
    "\n",
    "where \n",
    "\n",
    "$$\\lambda = \\left(0.12 + \\sqrt{n_e} + \\frac{0.11}{\\sqrt{n_e}} \\right)D $$\n",
    "\n",
    "and the ***effective number of data points***, $n_e$, is\n",
    "\n",
    "$$ n_e = \\left( \\frac{1}{N_1} + \\frac{1}{N_2}\\right)^{-1} = \\frac{N_1 N_2}{N_1 + N_2}$$\n",
    "\n",
    "If the probability that $D$ were drawn by chance is very small (low $p$-value) then we can reject the null hypothesis that the two samples were drawn from the same distribution."
   ]
  },
  {
   "attachments": {
    "Screen%20Shot%202023-10-04%20at%203.53.48%20PM.png": {
     "image/png": "[encoded data removed]"
    }
   },
   "cell_type": "markdown",
   "metadata": {
    "slideshow": {
     "slide_type": "slide"
    }
   },
   "source": [
    "For large $n_e$ we have $\\lambda\\approx\\sqrt{n_e}D$. In fact, for $n_e>10$ we can bypass $Q_\\mathrm{KS}$ entirely and compute the value of D that would correspond to a given significance level $\\alpha$,\n",
    "\n",
    "$$ D_\\mathrm{KS} = \\frac{C(\\alpha)}{\\sqrt{n_e}}$$\n",
    "\n",
    "where $C(\\alpha) = \\sqrt{-\\frac{1}{2}\\ln(\\alpha/2)}$. Some instructive significance levels are shown below (from [here](https://www.wikiwand.com/en/Kolmogorov%E2%80%93Smirnov_test)).\n",
    "\n",
    "![Screen%20Shot%202023-10-04%20at%203.53.48%20PM.png](attachment:Screen%20Shot%202023-10-04%20at%203.53.48%20PM.png)"
   ]
  },
  {
   "cell_type": "markdown",
   "metadata": {
    "slideshow": {
     "slide_type": "slide"
    }
   },
   "source": [
    "The KS test and variants can be accessed in the `scipy.stats` modules `kstest`, `ks_2samp`, and `ksone.` Let's look at a simple example for comparing a Gaussian sample to a Gaussian null hypothesis distribution."
   ]
  },
  {
   "cell_type": "markdown",
   "metadata": {
    "slideshow": {
     "slide_type": "slide"
    }
   },
   "source": [
    "<font color='red'>Execute the following cell</font>"
   ]
  },
  {
   "cell_type": "code",
   "execution_count": null,
   "metadata": {
    "slideshow": {
     "slide_type": "slide"
    }
   },
   "outputs": [],
   "source": [
    "# the kstest function is appropriate for this\n",
    "np.random.seed(0)\n",
    "x = np.random.normal(loc=0, scale=1, size=1000)\n",
    "print(stats.kstest(x, 'norm'))"
   ]
  },
  {
   "cell_type": "markdown",
   "metadata": {
    "slideshow": {
     "slide_type": "slide"
    }
   },
   "source": [
    "Let's now compare a $t$-distribution with $100$ degrees of freedom to a Gaussian distribution. <font color='red'>Complete the following cell. Discuss with your colleagues whether the result makes sense.</font>"
   ]
  },
  {
   "cell_type": "code",
   "execution_count": null,
   "metadata": {},
   "outputs": [],
   "source": [
    "np.random.seed(987654321)\n",
    "print(stats.kstest(stats.t.rvs(___, size=100), 'norm'))"
   ]
  },
  {
   "cell_type": "markdown",
   "metadata": {
    "slideshow": {
     "slide_type": "slide"
    }
   },
   "source": [
    "<font color='red'>Try again and discuss for a $t$-process with only $3$ degrees of freedom.</font>"
   ]
  }
 ],
 "metadata": {
  "anaconda-cloud": {},
  "celltoolbar": "Slideshow",
  "kernelspec": {
   "display_name": "Python 3 (ipykernel)",
   "language": "python",
   "name": "python3"
  },
  "language_info": {
   "codemirror_mode": {
    "name": "ipython",
    "version": 3
   },
   "file_extension": ".py",
   "mimetype": "text/x-python",
   "name": "python",
   "nbconvert_exporter": "python",
   "pygments_lexer": "ipython3",
   "version": "3.8.17"
  }
 },
 "nbformat": 4,
 "nbformat_minor": 4
}
