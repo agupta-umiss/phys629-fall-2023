{
 "cells": [
  {
   "cell_type": "markdown",
   "metadata": {
    "slideshow": {
     "slide_type": "slide"
    }
   },
   "source": [
    "### Phys 629, Fall 2023, University of Mississippi\n",
    "\n",
    "\n",
    "# Lecture 1a: Introduction to the course"
   ]
  },
  {
   "cell_type": "markdown",
   "metadata": {
    "slideshow": {
     "slide_type": "slide"
    }
   },
   "source": [
    "![](figures/product-feature-22-data-never-sleeps-10.png)"
   ]
  },
  {
   "cell_type": "markdown",
   "metadata": {
    "collapsed": true,
    "slideshow": {
     "slide_type": "slide"
    }
   },
   "source": [
    "The amount of raw information that is being generated every minute is extraordinary. So, whether we like it or not, we have entered the realm of **\"Big Data\"**. However, even in the realm of **\"Small Data\"**, a proper statistical treatment that accounts for statistical and systematic noise, as well as as signal dependencies on the measured output, is essential. Our work in Gravitational Wave Astronomy is far more on the **\"Small Data\"** side of things, and we'll get a small taste it."
   ]
  },
  {
   "cell_type": "markdown",
   "metadata": {
    "slideshow": {
     "slide_type": "slide"
    }
   },
   "source": [
    "What kinds of things can we learn from data, and how do we do it? \n",
    "\n",
    "*What* we can learn is really dependent on your goal, but this must align with the information content of the data. \n",
    "\n",
    "*How* we can interact with data is what **Data Mining** and **Machine Learning** are all about.\n",
    "\n",
    "* **Data mining** is exactly what it sounds like: sifting through piles of data in order to find something useful---like digging rock from the ground and extracting metal ores from it. It is sometimes called \"knowledge discovery\", since the emphasis is on techniques and attempts to find patterns in structured data.\n",
    "    \n",
    "    \n",
    "* **Machine learning** is about how to do this using computers to leverage our ability to extract useful information from the data by statistically comparing data to various models. The techniques are sometimes called \"statistical inference\", encompassing regression and model selection."
   ]
  },
  {
   "cell_type": "markdown",
   "metadata": {
    "slideshow": {
     "slide_type": "slide"
    }
   },
   "source": [
    "Who does data mining and uses machine learning?  Seems like everyone these days.\n",
    "\n",
    "- [Amazon and other online retail to predict things that you might buy or ads that may be of interest](https://phys.org/news/2019-06-amazon-tracking.html)\n",
    "\n",
    "- [Google for everything, but most interesting these days is self-driving cars](http://dataconomy.com/how-data-science-is-driving-the-driverless-car/)\n",
    "\n",
    "- Financial institutions to predict the future prices of their investments\n",
    "\n",
    "- Goverments for all sorts of things\n",
    "\n",
    "- Netflix to predict what shows you are likely to want to watch\n",
    "\n",
    "- Facial recognition tools\n",
    "\n",
    "- and, of course, physicists!"
   ]
  },
  {
   "cell_type": "markdown",
   "metadata": {
    "slideshow": {
     "slide_type": "slide"
    }
   },
   "source": [
    "**My** interest in the topic stems from ongoing gravitational-wave experiments such as LIGO, Virgo, KAGRA to be joined in the future by the space-borne LISA detector. These instruments extract detailed information about GW-emitting systems from **signals buried deep under noise**. The techniques required to do this are at the forefront of data-based inference, relying heavily on **Bayesian techniques** (we'll delve into Bayesian inference in a few weeks).\n",
    "\n",
    "\n",
    "In addition, there is a new generation of astronomical sky surveys like the [Legacy Survey of Space and Time (LSST)](https://www.lsst.org/) of the Vera Rubin Observatory. LSST is a project that is going to generate about **200 PB** of data (that's 200 million GB) by the end of its 10 year mission.  During that time, it will have measured a hundred or more properties for some 40 billion objects---*every 3 nights*.\n",
    "\n",
    "The future GW detectors such as **Cosmic Explorer** and **Einstein Telescope** will be 10 times more sensitive than current LIGO detectors and will generate data proportionally."
   ]
  },
  {
   "cell_type": "markdown",
   "metadata": {
    "slideshow": {
     "slide_type": "slide"
    }
   },
   "source": [
    "### What is this class?\n",
    "\n",
    "* An *introduction* to practical statistical inference and data analysis.\n",
    "\n",
    "* Some tools that I have learned along the way.\n",
    "\n",
    "* While skewed towards astrophysics, many of the techniques we will look at are general and applicable to any field of Physics.\n",
    "\n",
    "We won't be able to cover everything in just one semester, but I'll set you up to know the broad landscape of astrostatistics, equipping you to take further deep dives on your own."
   ]
  },
  {
   "cell_type": "markdown",
   "metadata": {
    "slideshow": {
     "slide_type": "slide"
    }
   },
   "source": [
    "This figure from drewconway.com nicely illustrates where we are trying to get: somewhere close to the middle!\n",
    "\n",
    "![http://static1.squarespace.com/static/5150aec6e4b0e340ec52710a/t/51525c33e4b0b3e0d10f77ab/1364352052403/Data_Science_VD.png?format=750w](http://static1.squarespace.com/static/5150aec6e4b0e340ec52710a/t/51525c33e4b0b3e0d10f77ab/1364352052403/Data_Science_VD.png?format=750w)"
   ]
  },
  {
   "cell_type": "markdown",
   "metadata": {
    "collapsed": true,
    "slideshow": {
     "slide_type": "slide"
    }
   },
   "source": [
    "Some reading resources that you might find useful:\n",
    "\n",
    "[Ball & Brunner 2010](http://www.worldscientific.com/doi/pdf/10.1142/S0218271810017160): astro-specific, but serves as a good general introduction too\n",
    "\n",
    "[Bloom & Richards 2011](http://adsabs.harvard.edu/abs/2012amld.book...89B)."
   ]
  }
 ],
 "metadata": {
  "anaconda-cloud": {},
  "celltoolbar": "Slideshow",
  "kernelspec": {
   "display_name": "Python [conda env:phys629] *",
   "language": "python",
   "name": "conda-env-phys629-py"
  },
  "language_info": {
   "codemirror_mode": {
    "name": "ipython",
    "version": 3
   },
   "file_extension": ".py",
   "mimetype": "text/x-python",
   "name": "python",
   "nbconvert_exporter": "python",
   "pygments_lexer": "ipython3",
   "version": "3.8.17"
  }
 },
 "nbformat": 4,
 "nbformat_minor": 1
}
